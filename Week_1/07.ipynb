{
 "cells": [
  {
   "cell_type": "markdown",
   "id": "b034dbfa",
   "metadata": {},
   "source": [
    "# Question 7: Interactive Guessing Game\n",
    "\n",
    "Build a number guessing game with user-specified range, intelligent hints (\"Much too high\", \n",
    "\"Close!\", \"Very close!\"), attempt tracking, scoring system, and replay option. Implement \n",
    "multiple difficulty levels."
   ]
  },
  {
   "cell_type": "code",
   "execution_count": null,
   "id": "32168d37",
   "metadata": {},
   "outputs": [
    {
     "name": "stdout",
     "output_type": "stream",
     "text": [
      "Welcome to the Guessing Game!\n",
      "Choose difficulty level:\n",
      "1. Easy (10 attempts)\n",
      "2. Medium (7 attempts)\n",
      "3. Hard (5 attempts)\n",
      "Much too low!\n",
      "Much too low!\n",
      "Much too low!\n",
      "Close!\n",
      "Close!\n",
      "Out of attempts! The number was 16.\n",
      "Score: 0\n",
      "Welcome to the Guessing Game!\n",
      "Choose difficulty level:\n",
      "1. Easy (10 attempts)\n",
      "2. Medium (7 attempts)\n",
      "3. Hard (5 attempts)\n"
     ]
    }
   ],
   "source": [
    "import random\n",
    "\n",
    "def guessing_game():\n",
    "    print(\"Welcome to the Guessing Game!\")\n",
    "    \n",
    "    # difficulty selection\n",
    "    print(\"Choose difficulty level:\")\n",
    "    print(\"1. Easy (10 attempts)\")\n",
    "    print(\"2. Medium (7 attempts)\")\n",
    "    print(\"3. Hard (5 attempts)\")\n",
    "    level = input(\"Enter choice (1/2/3): \")\n",
    "    \n",
    "    if level == \"1\":\n",
    "        attempts_allowed = 10\n",
    "    elif level == \"2\":\n",
    "        attempts_allowed = 7\n",
    "    elif level == \"3\":\n",
    "        attempts_allowed = 5\n",
    "    else:\n",
    "        print(\"Invalid choice, defaulting to Easy.\")\n",
    "        attempts_allowed = 10\n",
    "    \n",
    "    # range selection\n",
    "    low = int(input(\"Enter minimum number: \"))\n",
    "    high = int(input(\"Enter maximum number: \"))\n",
    "    secret = random.randint(low, high)\n",
    "    \n",
    "    attempts = 0\n",
    "    score = 100\n",
    "    \n",
    "    while attempts < attempts_allowed:\n",
    "        guess = int(input(f\"Attempt {attempts+1}/{attempts_allowed} - Enter your guess: \"))\n",
    "        attempts += 1\n",
    "        \n",
    "        if guess == secret:\n",
    "            print(f\"Correct! You guessed it in {attempts} attempts.\")\n",
    "            score -= (attempts-1) * 10\n",
    "            print(f\"Your score: {max(score, 0)}\")\n",
    "            break\n",
    "        else:\n",
    "            diff = abs(secret - guess)\n",
    "            if diff <= 3:\n",
    "                print(\"Very close!\")\n",
    "            elif diff <= 10:\n",
    "                print(\"Close!\")\n",
    "            elif guess > secret:\n",
    "                print(\"Much too high!\")\n",
    "            else:\n",
    "                print(\"Much too low!\")\n",
    "    \n",
    "    else:\n",
    "        print(f\"Out of attempts! The number was {secret}.\")\n",
    "        print(\"Score: 0\")\n",
    "    \n",
    "    # replay option\n",
    "    again = input(\"Play again? (y/n): \")\n",
    "    if again.lower() == \"y\":\n",
    "        guessing_game()\n",
    "    else:\n",
    "        print(\"Thanks for playing!\")\n",
    "\n",
    "# Run the game\n",
    "guessing_game()\n"
   ]
  }
 ],
 "metadata": {
  "kernelspec": {
   "display_name": "Python 3",
   "language": "python",
   "name": "python3"
  },
  "language_info": {
   "codemirror_mode": {
    "name": "ipython",
    "version": 3
   },
   "file_extension": ".py",
   "mimetype": "text/x-python",
   "name": "python",
   "nbconvert_exporter": "python",
   "pygments_lexer": "ipython3",
   "version": "3.10.0"
  }
 },
 "nbformat": 4,
 "nbformat_minor": 5
}
