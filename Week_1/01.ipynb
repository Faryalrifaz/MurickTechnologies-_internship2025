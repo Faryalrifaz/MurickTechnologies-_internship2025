{
 "cells": [
  {
   "cell_type": "markdown",
   "id": "4bf32a1d",
   "metadata": {},
   "source": [
    "# Question 1: Smart Calculator \n",
    "\n",
    "Create a calculator that takes two numbers and an operator (+, -, *, /) from the user. Handle \n",
    "division by zero with a proper error message and display results in format: \"5.0 + 3.0 = 8.0\". \n",
    "Add support for power (**) and modulus (%) operations."
   ]
  },
  {
   "cell_type": "code",
   "execution_count": 3,
   "id": "e46021ba",
   "metadata": {},
   "outputs": [
    {
     "name": "stdout",
     "output_type": "stream",
     "text": [
      "Error: Division by zero is not allowed.\n"
     ]
    }
   ],
   "source": [
    "# Smart Calculator\n",
    "\n",
    "try:\n",
    "    a = float(input(\"Enter first number: \"))\n",
    "    op = input(\"Enter operator (+, -, *, /, **, %): \").strip()\n",
    "    b = float(input(\"Enter second number: \"))\n",
    "\n",
    "    if op not in {\"+\", \"-\", \"*\", \"/\", \"**\", \"%\"}:\n",
    "        print(\"Error: Invalid operator. Use one of +, -, *, /, **, %.\")\n",
    "    elif op in {\"/\", \"%\"} and b == 0.0:\n",
    "        print(\"Error: Division by zero is not allowed.\")\n",
    "    else:\n",
    "        if op == \"+\":\n",
    "            result = a + b\n",
    "        elif op == \"-\":\n",
    "            result = a - b\n",
    "        elif op == \"*\":\n",
    "            result = a * b\n",
    "        elif op == \"/\":\n",
    "            result = a / b\n",
    "        elif op == \"**\":\n",
    "            result = a ** b\n",
    "        elif op == \"%\":\n",
    "            result = a % b\n",
    "\n",
    "        print(f\"{a} {op} {b} = {result}\")\n",
    "except ValueError:\n",
    "    print(\"Error: Please enter valid numbers.\")"
   ]
  }
 ],
 "metadata": {
  "kernelspec": {
   "display_name": "Python 3",
   "language": "python",
   "name": "python3"
  },
  "language_info": {
   "codemirror_mode": {
    "name": "ipython",
    "version": 3
   },
   "file_extension": ".py",
   "mimetype": "text/x-python",
   "name": "python",
   "nbconvert_exporter": "python",
   "pygments_lexer": "ipython3",
   "version": "3.10.0"
  }
 },
 "nbformat": 4,
 "nbformat_minor": 5
}
