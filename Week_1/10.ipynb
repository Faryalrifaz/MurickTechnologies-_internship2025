{
 "cells": [
  {
   "cell_type": "markdown",
   "id": "35f75b27",
   "metadata": {},
   "source": [
    "# Question 10: Multi-Unit Converter System\n",
    "Develop a comprehensive converter handling temperature (Celsius/Fahrenheit/Kelvin) and \n",
    "length (meters/feet/inches/kilometers/miles) with menu-driven selection"
   ]
  },
  {
   "cell_type": "code",
   "execution_count": null,
   "id": "de47ac89",
   "metadata": {},
   "outputs": [
    {
     "name": "stdout",
     "output_type": "stream",
     "text": [
      "Multi-Unit Converter System\n",
      "1. Temperature Converter\n",
      "2. Length Converter\n",
      "meters: 45000.00\n",
      "kilometers: 45.00\n",
      "feet: 147637.80\n",
      "inches: 1771653.54\n",
      "miles: 27.96\n"
     ]
    }
   ],
   "source": [
    "# Multi-Unit Converter System\n",
    "\n",
    "def celsius_to_fahrenheit(c):\n",
    "    return (c * 9/5) + 32\n",
    "\n",
    "def celsius_to_kelvin(c):\n",
    "    return c + 273.15\n",
    "\n",
    "def fahrenheit_to_celsius(f):\n",
    "    return (f - 32) * 5/9\n",
    "\n",
    "def kelvin_to_celsius(k):\n",
    "    return k - 273.15\n",
    "\n",
    "\n",
    "def length_converter(value, unit):\n",
    "    # conversion to meters\n",
    "    conversions = {\n",
    "        \"m\": 1,\n",
    "        \"km\": 1000,\n",
    "        \"ft\": 0.3048,\n",
    "        \"in\": 0.0254,\n",
    "        \"mile\": 1609.34\n",
    "    }\n",
    "    \n",
    "    if unit not in conversions:\n",
    "        return \"Invalid unit\"\n",
    "    \n",
    "    meters = value * conversions[unit]\n",
    "    \n",
    "    return {\n",
    "        \"meters\": meters,\n",
    "        \"kilometers\": meters / 1000,\n",
    "        \"feet\": meters / 0.3048,\n",
    "        \"inches\": meters / 0.0254,\n",
    "        \"miles\": meters / 1609.34\n",
    "    }\n",
    "\n",
    "\n",
    "def main():\n",
    "    print(\"Multi-Unit Converter System\")\n",
    "    print(\"1. Temperature Converter\")\n",
    "    print(\"2. Length Converter\")\n",
    "    \n",
    "    choice = input(\"Enter your choice (1/2): \")\n",
    "    \n",
    "    if choice == \"1\":\n",
    "        unit = input(\"Enter unit (C/F/K): \").lower()\n",
    "        value = float(input(\"Enter value: \"))\n",
    "        \n",
    "        if unit == \"c\":\n",
    "            print(f\"{value}°C = {celsius_to_fahrenheit(value):.2f}°F\")\n",
    "            print(f\"{value}°C = {celsius_to_kelvin(value):.2f}K\")\n",
    "        elif unit == \"f\":\n",
    "            c = fahrenheit_to_celsius(value)\n",
    "            print(f\"{value}°F = {c:.2f}°C\")\n",
    "            print(f\"{value}°F = {celsius_to_kelvin(c):.2f}K\")\n",
    "        elif unit == \"k\":\n",
    "            c = kelvin_to_celsius(value)\n",
    "            print(f\"{value}K = {c:.2f}°C\")\n",
    "            print(f\"{value}K = {celsius_to_fahrenheit(c):.2f}°F\")\n",
    "        else:\n",
    "            print(\"Invalid unit\")\n",
    "    \n",
    "    elif choice == \"2\":\n",
    "        unit = input(\"Enter unit (m/km/ft/in/mile): \").lower()\n",
    "        value = float(input(\"Enter value: \"))\n",
    "        \n",
    "        results = length_converter(value, unit)\n",
    "        if isinstance(results, str):\n",
    "            print(results)\n",
    "        else:\n",
    "            for k, v in results.items():\n",
    "                print(f\"{k}: {v:.2f}\")\n",
    "    \n",
    "    else:\n",
    "        print(\"Invalid choice\")\n",
    "\n",
    "# Run program\n",
    "main()\n"
   ]
  }
 ],
 "metadata": {
  "kernelspec": {
   "display_name": "Python 3",
   "language": "python",
   "name": "python3"
  },
  "language_info": {
   "codemirror_mode": {
    "name": "ipython",
    "version": 3
   },
   "file_extension": ".py",
   "mimetype": "text/x-python",
   "name": "python",
   "nbconvert_exporter": "python",
   "pygments_lexer": "ipython3",
   "version": "3.10.0"
  }
 },
 "nbformat": 4,
 "nbformat_minor": 5
}
