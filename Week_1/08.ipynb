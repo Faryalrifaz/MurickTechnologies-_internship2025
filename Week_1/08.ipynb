{
 "cells": [
  {
   "cell_type": "markdown",
   "id": "231833c1",
   "metadata": {},
   "source": [
    "# Question 8: Mathematical Sequence Generator\n",
    "Create a program that generates Fibonacci sequences, prime numbers up to a limit, or \n",
    "perfect squares in a range based on user choice. Generate sequences that combine two \n",
    "types (like Fibonacci primes)."
   ]
  },
  {
   "cell_type": "code",
   "execution_count": 1,
   "id": "e00d5f1a",
   "metadata": {},
   "outputs": [
    {
     "name": "stdout",
     "output_type": "stream",
     "text": [
      "[2, 3, 5, 7, 11, 13, 17, 19, 23, 29, 31, 37, 41, 43, 47]\n"
     ]
    }
   ],
   "source": [
    "#  Mathematical Sequence Generator\n",
    "\n",
    "def fibonacci(n):\n",
    "    seq = [0, 1]\n",
    "    while len(seq) < n:\n",
    "        seq.append(seq[-1] + seq[-2])\n",
    "    return seq\n",
    "\n",
    "def primes(limit):\n",
    "    seq = []\n",
    "    for num in range(2, limit+1):\n",
    "        is_prime = True\n",
    "        for i in range(2, int(num**0.5)+1):\n",
    "            if num % i == 0:\n",
    "                is_prime = False\n",
    "                break\n",
    "        if is_prime:\n",
    "            seq.append(num)\n",
    "    return seq\n",
    "\n",
    "def perfect_squares(limit):\n",
    "    seq = []\n",
    "    i = 1\n",
    "    while i*i <= limit:\n",
    "        seq.append(i*i)\n",
    "        i += 1\n",
    "    return seq\n",
    "\n",
    "def fibonacci_primes(n):\n",
    "    fib = fibonacci(n)\n",
    "    return [num for num in fib if num in primes(max(fib))]\n",
    "\n",
    "# User choice simulation\n",
    "choice = input(\"Enter sequence type (fibonacci, prime, square, fibprime): \")\n",
    "\n",
    "if choice == \"fibonacci\":\n",
    "    print(fibonacci(10))\n",
    "elif choice == \"prime\":\n",
    "    print(primes(50))\n",
    "elif choice == \"square\":\n",
    "    print(perfect_squares(100))\n",
    "elif choice == \"fibprime\":\n",
    "    print(fibonacci_primes(15))\n",
    "else:\n",
    "    print(\"Invalid choice\")\n"
   ]
  }
 ],
 "metadata": {
  "kernelspec": {
   "display_name": "Python 3",
   "language": "python",
   "name": "python3"
  },
  "language_info": {
   "codemirror_mode": {
    "name": "ipython",
    "version": 3
   },
   "file_extension": ".py",
   "mimetype": "text/x-python",
   "name": "python",
   "nbconvert_exporter": "python",
   "pygments_lexer": "ipython3",
   "version": "3.10.0"
  }
 },
 "nbformat": 4,
 "nbformat_minor": 5
}
