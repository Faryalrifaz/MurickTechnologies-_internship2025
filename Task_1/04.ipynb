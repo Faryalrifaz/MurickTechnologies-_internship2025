{
 "cells": [
  {
   "cell_type": "markdown",
   "id": "e761fc63",
   "metadata": {},
   "source": [
    "# Question 4: Word Analysis Tool\n",
    "Analyze a sentence and report total characters, word count, vowels/consonants count, and \n",
    "the longest word. Count the frequency of each letter (case-insensitive).\n"
   ]
  },
  {
   "cell_type": "code",
   "execution_count": 1,
   "id": "8bc02cb2",
   "metadata": {},
   "outputs": [
    {
     "name": "stdout",
     "output_type": "stream",
     "text": [
      "Total characters: 21\n",
      "Word count: 5\n",
      "Vowel count: 7\n",
      "Consonant count: 9\n",
      "Longest word: Faryal\n",
      "Letter frequencies: {'h': 1, 'i': 3, 'a': 4, 'm': 1, 'f': 2, 'r': 2, 'y': 1, 'l': 1, 'z': 1}\n"
     ]
    }
   ],
   "source": [
    "sentence = input(\"Enter a sentence: \")\n",
    "\n",
    "# 1. Total characters\n",
    "total_chars = len(sentence)\n",
    "\n",
    "# 2. Word count\n",
    "words = sentence.split()\n",
    "word_count = len(words)\n",
    "\n",
    "# 3. Vowels and consonants\n",
    "vowels = \"aeiou\"\n",
    "vowel_count = 0\n",
    "consonant_count = 0\n",
    "\n",
    "for char in sentence.lower():\n",
    "    if char.isalpha():\n",
    "        if char in vowels:\n",
    "            vowel_count += 1\n",
    "        else:\n",
    "            consonant_count += 1\n",
    "\n",
    "# 4. Longest word\n",
    "longest_word = max(words, key=len)\n",
    "\n",
    "# 5. Frequency of each letter\n",
    "frequency = {}\n",
    "for char in sentence.lower():\n",
    "    if char.isalpha():\n",
    "        frequency[char] = frequency.get(char, 0) + 1\n",
    "\n",
    "# Results\n",
    "print(f\"Total characters: {total_chars}\")\n",
    "print(f\"Word count: {word_count}\")\n",
    "print(f\"Vowel count: {vowel_count}\")\n",
    "print(f\"Consonant count: {consonant_count}\")\n",
    "print(f\"Longest word: {longest_word}\")\n",
    "print(\"Letter frequencies:\", frequency)\n"
   ]
  },
  {
   "cell_type": "markdown",
   "id": "32ce9631",
   "metadata": {},
   "source": []
  }
 ],
 "metadata": {
  "kernelspec": {
   "display_name": "Python 3",
   "language": "python",
   "name": "python3"
  },
  "language_info": {
   "codemirror_mode": {
    "name": "ipython",
    "version": 3
   },
   "file_extension": ".py",
   "mimetype": "text/x-python",
   "name": "python",
   "nbconvert_exporter": "python",
   "pygments_lexer": "ipython3",
   "version": "3.10.0"
  }
 },
 "nbformat": 4,
 "nbformat_minor": 5
}
