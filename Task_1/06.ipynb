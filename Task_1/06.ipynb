{
 "cells": [
  {
   "cell_type": "markdown",
   "id": "9ce24542",
   "metadata": {},
   "source": [
    "# Question 6: Advanced String Checker\n",
    "\n",
    "Check if a string is a palindrome (ignoring spaces, punctuation, case) and whether it \n",
    "contains only alphabetic characters. Also verify if parentheses () are balanced in the string.\n"
   ]
  },
  {
   "cell_type": "code",
   "execution_count": 2,
   "id": "7d9aa047",
   "metadata": {},
   "outputs": [
    {
     "name": "stdout",
     "output_type": "stream",
     "text": [
      "Palindrome: No\n",
      "Alphabet only: No\n",
      "Parentheses balanced: Yes\n"
     ]
    }
   ],
   "source": [
    "import string\n",
    "\n",
    "text = input(\"Enter a string: \")\n",
    "\n",
    "# 1. Palindrome check\n",
    "cleaned = \"\".join(ch.lower() for ch in text if ch.isalnum())  # ignore spaces/punctuation\n",
    "if cleaned == cleaned[::-1]:\n",
    "    print(\"Palindrome: Yes\")\n",
    "else:\n",
    "    print(\"Palindrome: No\")\n",
    "\n",
    "# 2. Alphabet-only check\n",
    "if text.isalpha():\n",
    "    print(\"Alphabet only: Yes\")\n",
    "else:\n",
    "    print(\"Alphabet only: No\")\n",
    "\n",
    "# 3. Balanced parentheses check\n",
    "stack = []\n",
    "balanced = True\n",
    "for ch in text:\n",
    "    if ch == \"(\":\n",
    "        stack.append(ch)\n",
    "    elif ch == \")\":\n",
    "        if stack:\n",
    "            stack.pop()\n",
    "        else:\n",
    "            balanced = False\n",
    "            break\n",
    "if balanced and not stack:\n",
    "    print(\"Parentheses balanced: Yes\")\n",
    "else:\n",
    "    print(\"Parentheses balanced: No\")\n"
   ]
  }
 ],
 "metadata": {
  "kernelspec": {
   "display_name": "Python 3",
   "language": "python",
   "name": "python3"
  },
  "language_info": {
   "codemirror_mode": {
    "name": "ipython",
    "version": 3
   },
   "file_extension": ".py",
   "mimetype": "text/x-python",
   "name": "python",
   "nbconvert_exporter": "python",
   "pygments_lexer": "ipython3",
   "version": "3.10.0"
  }
 },
 "nbformat": 4,
 "nbformat_minor": 5
}
