{
 "cells": [
  {
   "cell_type": "markdown",
   "id": "90dca789",
   "metadata": {},
   "source": [
    "# Question 2: Circle Properties Calculator\n",
    "Write a program that takes a circle's radius and calculates both area and circumference \n",
    "using math.pi. Format output to 2 decimal places and validate that radius is positive."
   ]
  },
  {
   "cell_type": "code",
   "execution_count": 1,
   "id": "e6de5d5e",
   "metadata": {},
   "outputs": [
    {
     "name": "stdout",
     "output_type": "stream",
     "text": [
      "Area of circle = 113.10\n",
      "Circumference of circle = 37.70\n"
     ]
    }
   ],
   "source": [
    "import math\n",
    "\n",
    "radius = float(input(\"Enter the radius of circle: \"))\n",
    "\n",
    "if radius <= 0:\n",
    "    print(\"Error: Radius must be positive\")\n",
    "else:\n",
    "    area = math.pi * radius ** 2\n",
    "    circumference = 2 * math.pi * radius\n",
    "    print(f\"Area of circle = {area:.2f}\")\n",
    "    print(f\"Circumference of circle = {circumference:.2f}\")\n"
   ]
  }
 ],
 "metadata": {
  "kernelspec": {
   "display_name": "Python 3",
   "language": "python",
   "name": "python3"
  },
  "language_info": {
   "codemirror_mode": {
    "name": "ipython",
    "version": 3
   },
   "file_extension": ".py",
   "mimetype": "text/x-python",
   "name": "python",
   "nbconvert_exporter": "python",
   "pygments_lexer": "ipython3",
   "version": "3.10.0"
  }
 },
 "nbformat": 4,
 "nbformat_minor": 5
}
