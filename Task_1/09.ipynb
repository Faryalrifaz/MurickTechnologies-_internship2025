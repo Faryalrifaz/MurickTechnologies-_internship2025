{
 "cells": [
  {
   "cell_type": "markdown",
   "id": "5cc5b709",
   "metadata": {},
   "source": [
    "# Question 9: Text Pattern Analyzer\n",
    "Build a program that checks if two strings are anagrams, finds all anagrams of a word from \n",
    "a word list, implements basic spell-checking using edit distance, and finds the longest \n",
    "common subsequence between strings.\n"
   ]
  },
  {
   "cell_type": "code",
   "execution_count": 7,
   "id": "7d362fc8",
   "metadata": {},
   "outputs": [
    {
     "name": "stdout",
     "output_type": "stream",
     "text": [
      "Is anagram: True\n",
      "Anagrams of 'listen': ['enlist', 'inlets']\n",
      "Edit distance between 'kitten' and 'sitting': 3\n",
      "LCS of 'abcde' and 'ace': ace\n"
     ]
    }
   ],
   "source": [
    "#  Text Pattern Analyzer\n",
    "\n",
    "from collections import Counter\n",
    "\n",
    "# 1. Check if two strings are anagrams\n",
    "def is_anagram(s1, s2):\n",
    "    return Counter(s1.lower()) == Counter(s2.lower())\n",
    "\n",
    "# 2. Find all anagrams of a word from a word list\n",
    "def find_anagrams(word, word_list):\n",
    "    return [w for w in word_list if is_anagram(word, w)]\n",
    "\n",
    "# 3. Basic spell-checking using edit distance\n",
    "def edit_distance(s1, s2):\n",
    "    dp = [[0 for _ in range(len(s2)+1)] for _ in range(len(s1)+1)]\n",
    "    \n",
    "    for i in range(len(s1)+1):\n",
    "        for j in range(len(s2)+1):\n",
    "            if i == 0:\n",
    "                dp[i][j] = j\n",
    "            elif j == 0:\n",
    "                dp[i][j] = i\n",
    "            elif s1[i-1] == s2[j-1]:\n",
    "                dp[i][j] = dp[i-1][j-1]\n",
    "            else:\n",
    "                dp[i][j] = 1 + min(dp[i-1][j],    # deletion\n",
    "                                   dp[i][j-1],    # insertion\n",
    "                                   dp[i-1][j-1])  # substitution\n",
    "    return dp[len(s1)][len(s2)]\n",
    "\n",
    "# 4. Longest Common Subsequence\n",
    "def lcs(s1, s2):\n",
    "    m, n = len(s1), len(s2)\n",
    "    dp = [[\"\" for _ in range(n+1)] for _ in range(m+1)]\n",
    "    \n",
    "    for i in range(m):\n",
    "        for j in range(n):\n",
    "            if s1[i] == s2[j]:\n",
    "                dp[i+1][j+1] = dp[i][j] + s1[i]\n",
    "            else:\n",
    "                dp[i+1][j+1] = max(dp[i][j+1], dp[i+1][j], key=len)\n",
    "    \n",
    "    return dp[m][n]\n",
    "\n",
    "# Example usage\n",
    "print(\"Is anagram:\", is_anagram(\"listen\", \"silent\"))\n",
    "\n",
    "words = [\"enlist\", \"google\", \"inlets\", \"banana\"]\n",
    "print(\"Anagrams of 'listen':\", find_anagrams(\"listen\", words))\n",
    "\n",
    "print(\"Edit distance between 'kitten' and 'sitting':\", edit_distance(\"kitten\", \"sitting\"))\n",
    "\n",
    "print(\"LCS of 'abcde' and 'ace':\", lcs(\"abcde\", \"ace\"))\n"
   ]
  }
 ],
 "metadata": {
  "kernelspec": {
   "display_name": "Python 3",
   "language": "python",
   "name": "python3"
  },
  "language_info": {
   "codemirror_mode": {
    "name": "ipython",
    "version": 3
   },
   "file_extension": ".py",
   "mimetype": "text/x-python",
   "name": "python",
   "nbconvert_exporter": "python",
   "pygments_lexer": "ipython3",
   "version": "3.10.0"
  }
 },
 "nbformat": 4,
 "nbformat_minor": 5
}
