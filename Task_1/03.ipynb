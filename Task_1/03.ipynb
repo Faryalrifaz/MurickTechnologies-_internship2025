{
 "cells": [
  {
   "cell_type": "markdown",
   "id": "688f8c4d",
   "metadata": {},
   "source": [
    "# Question 3: Enhanced Number Classifier\n",
    "Create a program that analyzes a number and tells whether it's positive/negative/zero, \n",
    "even/odd, and if it's a perfect square. Also check if the number is a power of 2.\n"
   ]
  },
  {
   "cell_type": "code",
   "execution_count": 1,
   "id": "9bf7fcdf",
   "metadata": {},
   "outputs": [
    {
     "name": "stdout",
     "output_type": "stream",
     "text": [
      "Number is Positive\n",
      "Number is Odd\n",
      "Number is a Perfect Square\n",
      "Number is NOT a Power of 2\n"
     ]
    }
   ],
   "source": [
    "import math\n",
    "\n",
    "num = int(input(\"Enter a number: \"))\n",
    "\n",
    "# 1. Positive / Negative / Zero\n",
    "if num > 0:\n",
    "    print(\"Number is Positive\")\n",
    "elif num < 0:\n",
    "    print(\"Number is Negative\")\n",
    "else:\n",
    "    print(\"Number is Zero\")\n",
    "\n",
    "# 2. Even / Odd\n",
    "if num % 2 == 0:\n",
    "    print(\"Number is Even\")\n",
    "else:\n",
    "    print(\"Number is Odd\")\n",
    "\n",
    "# 3. Perfect Square\n",
    "if num >= 0:\n",
    "    if int(math.isqrt(num)) ** 2 == num:\n",
    "        print(\"Number is a Perfect Square\")\n",
    "    else:\n",
    "        print(\"Number is NOT a Perfect Square\")\n",
    "else:\n",
    "    print(\"Number is NOT a Perfect Square\")\n",
    "\n",
    "# 4. Power of 2\n",
    "if num > 0 and (num & (num - 1)) == 0:   # bitwise trick\n",
    "    print(\"Number is a Power of 2\")\n",
    "else:\n",
    "    print(\"Number is NOT a Power of 2\")\n"
   ]
  }
 ],
 "metadata": {
  "kernelspec": {
   "display_name": "Python 3",
   "language": "python",
   "name": "python3"
  },
  "language_info": {
   "codemirror_mode": {
    "name": "ipython",
    "version": 3
   },
   "file_extension": ".py",
   "mimetype": "text/x-python",
   "name": "python",
   "nbconvert_exporter": "python",
   "pygments_lexer": "ipython3",
   "version": "3.10.0"
  }
 },
 "nbformat": 4,
 "nbformat_minor": 5
}
