{
 "cells": [
  {
   "cell_type": "markdown",
   "id": "efea740e",
   "metadata": {},
   "source": [
    "---\n",
    "\n",
    "<h1 align=\"center\"><b>Customer Segmentation for E-Commerce using K-Means</b></h1>\n",
    "\n",
    "---"
   ]
  },
  {
   "cell_type": "markdown",
   "id": "0e076270",
   "metadata": {},
   "source": [
    "### **Author: Faryal Rifaz**\n",
    "#### **Date: Oct 2025**\n"
   ]
  },
  {
   "cell_type": "markdown",
   "id": "0ce22d77",
   "metadata": {},
   "source": [
    "## 1. Import Libraries"
   ]
  },
  {
   "cell_type": "code",
   "execution_count": 1,
   "id": "ae33e6ce",
   "metadata": {},
   "outputs": [],
   "source": [
    "import pandas as pd\n",
    "import numpy as np\n",
    "import matplotlib.pyplot as plt\n",
    "import seaborn as sns\n",
    "from sklearn.cluster import KMeans\n",
    "from sklearn.preprocessing import StandardScaler\n",
    "from datetime import datetime\n",
    "import plotly.express as px\n",
    "import warnings\n",
    "warnings.filterwarnings('ignore')\n"
   ]
  },
  {
   "cell_type": "markdown",
   "id": "4aa6bb24",
   "metadata": {},
   "source": [
    "## 2. Load Dataset"
   ]
  },
  {
   "cell_type": "code",
   "execution_count": 2,
   "id": "0b13c60c",
   "metadata": {},
   "outputs": [
    {
     "data": {
      "application/vnd.microsoft.datawrangler.viewer.v0+json": {
       "columns": [
        {
         "name": "index",
         "rawType": "int64",
         "type": "integer"
        },
        {
         "name": "InvoiceNo",
         "rawType": "object",
         "type": "string"
        },
        {
         "name": "StockCode",
         "rawType": "object",
         "type": "string"
        },
        {
         "name": "Description",
         "rawType": "object",
         "type": "string"
        },
        {
         "name": "Quantity",
         "rawType": "int64",
         "type": "integer"
        },
        {
         "name": "InvoiceDate",
         "rawType": "object",
         "type": "string"
        },
        {
         "name": "UnitPrice",
         "rawType": "float64",
         "type": "float"
        },
        {
         "name": "CustomerID",
         "rawType": "float64",
         "type": "float"
        },
        {
         "name": "Country",
         "rawType": "object",
         "type": "string"
        }
       ],
       "ref": "bc723e14-0a15-4d96-a9b0-ca055becfb9e",
       "rows": [
        [
         "0",
         "536365",
         "85123A",
         "WHITE HANGING HEART T-LIGHT HOLDER",
         "6",
         "12/1/2010 8:26",
         "2.55",
         "17850.0",
         "United Kingdom"
        ],
        [
         "1",
         "536365",
         "71053",
         "WHITE METAL LANTERN",
         "6",
         "12/1/2010 8:26",
         "3.39",
         "17850.0",
         "United Kingdom"
        ],
        [
         "2",
         "536365",
         "84406B",
         "CREAM CUPID HEARTS COAT HANGER",
         "8",
         "12/1/2010 8:26",
         "2.75",
         "17850.0",
         "United Kingdom"
        ],
        [
         "3",
         "536365",
         "84029G",
         "KNITTED UNION FLAG HOT WATER BOTTLE",
         "6",
         "12/1/2010 8:26",
         "3.39",
         "17850.0",
         "United Kingdom"
        ],
        [
         "4",
         "536365",
         "84029E",
         "RED WOOLLY HOTTIE WHITE HEART.",
         "6",
         "12/1/2010 8:26",
         "3.39",
         "17850.0",
         "United Kingdom"
        ]
       ],
       "shape": {
        "columns": 8,
        "rows": 5
       }
      },
      "text/html": [
       "<div>\n",
       "<style scoped>\n",
       "    .dataframe tbody tr th:only-of-type {\n",
       "        vertical-align: middle;\n",
       "    }\n",
       "\n",
       "    .dataframe tbody tr th {\n",
       "        vertical-align: top;\n",
       "    }\n",
       "\n",
       "    .dataframe thead th {\n",
       "        text-align: right;\n",
       "    }\n",
       "</style>\n",
       "<table border=\"1\" class=\"dataframe\">\n",
       "  <thead>\n",
       "    <tr style=\"text-align: right;\">\n",
       "      <th></th>\n",
       "      <th>InvoiceNo</th>\n",
       "      <th>StockCode</th>\n",
       "      <th>Description</th>\n",
       "      <th>Quantity</th>\n",
       "      <th>InvoiceDate</th>\n",
       "      <th>UnitPrice</th>\n",
       "      <th>CustomerID</th>\n",
       "      <th>Country</th>\n",
       "    </tr>\n",
       "  </thead>\n",
       "  <tbody>\n",
       "    <tr>\n",
       "      <th>0</th>\n",
       "      <td>536365</td>\n",
       "      <td>85123A</td>\n",
       "      <td>WHITE HANGING HEART T-LIGHT HOLDER</td>\n",
       "      <td>6</td>\n",
       "      <td>12/1/2010 8:26</td>\n",
       "      <td>2.55</td>\n",
       "      <td>17850.0</td>\n",
       "      <td>United Kingdom</td>\n",
       "    </tr>\n",
       "    <tr>\n",
       "      <th>1</th>\n",
       "      <td>536365</td>\n",
       "      <td>71053</td>\n",
       "      <td>WHITE METAL LANTERN</td>\n",
       "      <td>6</td>\n",
       "      <td>12/1/2010 8:26</td>\n",
       "      <td>3.39</td>\n",
       "      <td>17850.0</td>\n",
       "      <td>United Kingdom</td>\n",
       "    </tr>\n",
       "    <tr>\n",
       "      <th>2</th>\n",
       "      <td>536365</td>\n",
       "      <td>84406B</td>\n",
       "      <td>CREAM CUPID HEARTS COAT HANGER</td>\n",
       "      <td>8</td>\n",
       "      <td>12/1/2010 8:26</td>\n",
       "      <td>2.75</td>\n",
       "      <td>17850.0</td>\n",
       "      <td>United Kingdom</td>\n",
       "    </tr>\n",
       "    <tr>\n",
       "      <th>3</th>\n",
       "      <td>536365</td>\n",
       "      <td>84029G</td>\n",
       "      <td>KNITTED UNION FLAG HOT WATER BOTTLE</td>\n",
       "      <td>6</td>\n",
       "      <td>12/1/2010 8:26</td>\n",
       "      <td>3.39</td>\n",
       "      <td>17850.0</td>\n",
       "      <td>United Kingdom</td>\n",
       "    </tr>\n",
       "    <tr>\n",
       "      <th>4</th>\n",
       "      <td>536365</td>\n",
       "      <td>84029E</td>\n",
       "      <td>RED WOOLLY HOTTIE WHITE HEART.</td>\n",
       "      <td>6</td>\n",
       "      <td>12/1/2010 8:26</td>\n",
       "      <td>3.39</td>\n",
       "      <td>17850.0</td>\n",
       "      <td>United Kingdom</td>\n",
       "    </tr>\n",
       "  </tbody>\n",
       "</table>\n",
       "</div>"
      ],
      "text/plain": [
       "  InvoiceNo StockCode                          Description  Quantity  \\\n",
       "0    536365    85123A   WHITE HANGING HEART T-LIGHT HOLDER         6   \n",
       "1    536365     71053                  WHITE METAL LANTERN         6   \n",
       "2    536365    84406B       CREAM CUPID HEARTS COAT HANGER         8   \n",
       "3    536365    84029G  KNITTED UNION FLAG HOT WATER BOTTLE         6   \n",
       "4    536365    84029E       RED WOOLLY HOTTIE WHITE HEART.         6   \n",
       "\n",
       "      InvoiceDate  UnitPrice  CustomerID         Country  \n",
       "0  12/1/2010 8:26       2.55     17850.0  United Kingdom  \n",
       "1  12/1/2010 8:26       3.39     17850.0  United Kingdom  \n",
       "2  12/1/2010 8:26       2.75     17850.0  United Kingdom  \n",
       "3  12/1/2010 8:26       3.39     17850.0  United Kingdom  \n",
       "4  12/1/2010 8:26       3.39     17850.0  United Kingdom  "
      ]
     },
     "execution_count": 2,
     "metadata": {},
     "output_type": "execute_result"
    }
   ],
   "source": [
    "data = pd.read_csv(\"online_retail.csv\", encoding='latin1')\n",
    "data.head()\n"
   ]
  },
  {
   "cell_type": "markdown",
   "id": "9d1f961f",
   "metadata": {},
   "source": [
    "## 3. Basic Info"
   ]
  },
  {
   "cell_type": "code",
   "execution_count": 3,
   "id": "391852e7",
   "metadata": {},
   "outputs": [
    {
     "name": "stdout",
     "output_type": "stream",
     "text": [
      "<class 'pandas.core.frame.DataFrame'>\n",
      "RangeIndex: 541909 entries, 0 to 541908\n",
      "Data columns (total 8 columns):\n",
      " #   Column       Non-Null Count   Dtype  \n",
      "---  ------       --------------   -----  \n",
      " 0   InvoiceNo    541909 non-null  object \n",
      " 1   StockCode    541909 non-null  object \n",
      " 2   Description  540455 non-null  object \n",
      " 3   Quantity     541909 non-null  int64  \n",
      " 4   InvoiceDate  541909 non-null  object \n",
      " 5   UnitPrice    541909 non-null  float64\n",
      " 6   CustomerID   406829 non-null  float64\n",
      " 7   Country      541909 non-null  object \n",
      "dtypes: float64(2), int64(1), object(5)\n",
      "memory usage: 33.1+ MB\n"
     ]
    },
    {
     "data": {
      "application/vnd.microsoft.datawrangler.viewer.v0+json": {
       "columns": [
        {
         "name": "index",
         "rawType": "object",
         "type": "string"
        },
        {
         "name": "0",
         "rawType": "int64",
         "type": "integer"
        }
       ],
       "ref": "67a6ccfd-c75e-4d05-a715-f5e1ca61d4dd",
       "rows": [
        [
         "InvoiceNo",
         "0"
        ],
        [
         "StockCode",
         "0"
        ],
        [
         "Description",
         "1454"
        ],
        [
         "Quantity",
         "0"
        ],
        [
         "InvoiceDate",
         "0"
        ],
        [
         "UnitPrice",
         "0"
        ],
        [
         "CustomerID",
         "135080"
        ],
        [
         "Country",
         "0"
        ]
       ],
       "shape": {
        "columns": 1,
        "rows": 8
       }
      },
      "text/plain": [
       "InvoiceNo           0\n",
       "StockCode           0\n",
       "Description      1454\n",
       "Quantity            0\n",
       "InvoiceDate         0\n",
       "UnitPrice           0\n",
       "CustomerID     135080\n",
       "Country             0\n",
       "dtype: int64"
      ]
     },
     "execution_count": 3,
     "metadata": {},
     "output_type": "execute_result"
    }
   ],
   "source": [
    "data.shape\n",
    "data.info()\n",
    "data.describe()\n",
    "data.isnull().sum()\n"
   ]
  },
  {
   "cell_type": "markdown",
   "id": "06e644ae",
   "metadata": {},
   "source": [
    "### 4. Data Cleaning — Remove Missing Customer IDs"
   ]
  },
  {
   "cell_type": "code",
   "execution_count": 4,
   "id": "5492114a",
   "metadata": {},
   "outputs": [],
   "source": [
    "data = data[data['CustomerID'].notnull()]\n"
   ]
  },
  {
   "cell_type": "markdown",
   "id": "47f28bef",
   "metadata": {},
   "source": [
    "### 5. Drop Missing Product Descriptions"
   ]
  },
  {
   "cell_type": "code",
   "execution_count": 5,
   "id": "d121fc5e",
   "metadata": {},
   "outputs": [],
   "source": [
    "data = data.dropna(subset=['Description'])\n"
   ]
  },
  {
   "cell_type": "markdown",
   "id": "241cc1b8",
   "metadata": {},
   "source": [
    "### 6. Parse InvoiceDate to Datetime"
   ]
  },
  {
   "cell_type": "code",
   "execution_count": 6,
   "id": "713fe24c",
   "metadata": {},
   "outputs": [],
   "source": [
    "data['InvoiceDate'] = pd.to_datetime(data['InvoiceDate'])\n"
   ]
  },
  {
   "cell_type": "markdown",
   "id": "dc1741c9",
   "metadata": {},
   "source": [
    "### 7. Remove Cancellations/Credit Notes"
   ]
  },
  {
   "cell_type": "code",
   "execution_count": 7,
   "id": "9957a337",
   "metadata": {},
   "outputs": [],
   "source": [
    "data = data[~data['InvoiceNo'].astype(str).str.startswith('C')]\n"
   ]
  },
  {
   "cell_type": "markdown",
   "id": "fcbfdf7f",
   "metadata": {},
   "source": [
    "### 8. Keep Positive Quantities and Unit Prices"
   ]
  },
  {
   "cell_type": "code",
   "execution_count": 8,
   "id": "191b1607",
   "metadata": {},
   "outputs": [],
   "source": [
    "data = data[(data['Quantity'] > 0) & (data['UnitPrice'] > 0)]\n"
   ]
  },
  {
   "cell_type": "markdown",
   "id": "7a8ef025",
   "metadata": {},
   "source": [
    "### 9. Post-cleaning Data Check"
   ]
  },
  {
   "cell_type": "code",
   "execution_count": 9,
   "id": "c3d001ba",
   "metadata": {},
   "outputs": [
    {
     "name": "stdout",
     "output_type": "stream",
     "text": [
      "<class 'pandas.core.frame.DataFrame'>\n",
      "Index: 397884 entries, 0 to 541908\n",
      "Data columns (total 8 columns):\n",
      " #   Column       Non-Null Count   Dtype         \n",
      "---  ------       --------------   -----         \n",
      " 0   InvoiceNo    397884 non-null  object        \n",
      " 1   StockCode    397884 non-null  object        \n",
      " 2   Description  397884 non-null  object        \n",
      " 3   Quantity     397884 non-null  int64         \n",
      " 4   InvoiceDate  397884 non-null  datetime64[ns]\n",
      " 5   UnitPrice    397884 non-null  float64       \n",
      " 6   CustomerID   397884 non-null  float64       \n",
      " 7   Country      397884 non-null  object        \n",
      "dtypes: datetime64[ns](1), float64(2), int64(1), object(4)\n",
      "memory usage: 27.3+ MB\n"
     ]
    },
    {
     "data": {
      "text/plain": [
       "(397884, 8)"
      ]
     },
     "execution_count": 9,
     "metadata": {},
     "output_type": "execute_result"
    }
   ],
   "source": [
    "data.info()\n",
    "data.shape\n"
   ]
  },
  {
   "cell_type": "markdown",
   "id": "d5187858",
   "metadata": {},
   "source": [
    "### 10. Feature Engineering — Compute TotalPrice"
   ]
  },
  {
   "cell_type": "code",
   "execution_count": 10,
   "id": "ea7e157d",
   "metadata": {},
   "outputs": [
    {
     "data": {
      "application/vnd.microsoft.datawrangler.viewer.v0+json": {
       "columns": [
        {
         "name": "index",
         "rawType": "int64",
         "type": "integer"
        },
        {
         "name": "InvoiceNo",
         "rawType": "object",
         "type": "string"
        },
        {
         "name": "StockCode",
         "rawType": "object",
         "type": "string"
        },
        {
         "name": "Description",
         "rawType": "object",
         "type": "string"
        },
        {
         "name": "Quantity",
         "rawType": "int64",
         "type": "integer"
        },
        {
         "name": "InvoiceDate",
         "rawType": "datetime64[ns]",
         "type": "datetime"
        },
        {
         "name": "UnitPrice",
         "rawType": "float64",
         "type": "float"
        },
        {
         "name": "CustomerID",
         "rawType": "float64",
         "type": "float"
        },
        {
         "name": "Country",
         "rawType": "object",
         "type": "string"
        },
        {
         "name": "TotalPrice",
         "rawType": "float64",
         "type": "float"
        }
       ],
       "ref": "c782e0be-ec43-4c3e-ac1d-17c3baa2dcd5",
       "rows": [
        [
         "0",
         "536365",
         "85123A",
         "WHITE HANGING HEART T-LIGHT HOLDER",
         "6",
         "2010-12-01 08:26:00",
         "2.55",
         "17850.0",
         "United Kingdom",
         "15.299999999999999"
        ],
        [
         "1",
         "536365",
         "71053",
         "WHITE METAL LANTERN",
         "6",
         "2010-12-01 08:26:00",
         "3.39",
         "17850.0",
         "United Kingdom",
         "20.34"
        ],
        [
         "2",
         "536365",
         "84406B",
         "CREAM CUPID HEARTS COAT HANGER",
         "8",
         "2010-12-01 08:26:00",
         "2.75",
         "17850.0",
         "United Kingdom",
         "22.0"
        ],
        [
         "3",
         "536365",
         "84029G",
         "KNITTED UNION FLAG HOT WATER BOTTLE",
         "6",
         "2010-12-01 08:26:00",
         "3.39",
         "17850.0",
         "United Kingdom",
         "20.34"
        ],
        [
         "4",
         "536365",
         "84029E",
         "RED WOOLLY HOTTIE WHITE HEART.",
         "6",
         "2010-12-01 08:26:00",
         "3.39",
         "17850.0",
         "United Kingdom",
         "20.34"
        ]
       ],
       "shape": {
        "columns": 9,
        "rows": 5
       }
      },
      "text/html": [
       "<div>\n",
       "<style scoped>\n",
       "    .dataframe tbody tr th:only-of-type {\n",
       "        vertical-align: middle;\n",
       "    }\n",
       "\n",
       "    .dataframe tbody tr th {\n",
       "        vertical-align: top;\n",
       "    }\n",
       "\n",
       "    .dataframe thead th {\n",
       "        text-align: right;\n",
       "    }\n",
       "</style>\n",
       "<table border=\"1\" class=\"dataframe\">\n",
       "  <thead>\n",
       "    <tr style=\"text-align: right;\">\n",
       "      <th></th>\n",
       "      <th>InvoiceNo</th>\n",
       "      <th>StockCode</th>\n",
       "      <th>Description</th>\n",
       "      <th>Quantity</th>\n",
       "      <th>InvoiceDate</th>\n",
       "      <th>UnitPrice</th>\n",
       "      <th>CustomerID</th>\n",
       "      <th>Country</th>\n",
       "      <th>TotalPrice</th>\n",
       "    </tr>\n",
       "  </thead>\n",
       "  <tbody>\n",
       "    <tr>\n",
       "      <th>0</th>\n",
       "      <td>536365</td>\n",
       "      <td>85123A</td>\n",
       "      <td>WHITE HANGING HEART T-LIGHT HOLDER</td>\n",
       "      <td>6</td>\n",
       "      <td>2010-12-01 08:26:00</td>\n",
       "      <td>2.55</td>\n",
       "      <td>17850.0</td>\n",
       "      <td>United Kingdom</td>\n",
       "      <td>15.30</td>\n",
       "    </tr>\n",
       "    <tr>\n",
       "      <th>1</th>\n",
       "      <td>536365</td>\n",
       "      <td>71053</td>\n",
       "      <td>WHITE METAL LANTERN</td>\n",
       "      <td>6</td>\n",
       "      <td>2010-12-01 08:26:00</td>\n",
       "      <td>3.39</td>\n",
       "      <td>17850.0</td>\n",
       "      <td>United Kingdom</td>\n",
       "      <td>20.34</td>\n",
       "    </tr>\n",
       "    <tr>\n",
       "      <th>2</th>\n",
       "      <td>536365</td>\n",
       "      <td>84406B</td>\n",
       "      <td>CREAM CUPID HEARTS COAT HANGER</td>\n",
       "      <td>8</td>\n",
       "      <td>2010-12-01 08:26:00</td>\n",
       "      <td>2.75</td>\n",
       "      <td>17850.0</td>\n",
       "      <td>United Kingdom</td>\n",
       "      <td>22.00</td>\n",
       "    </tr>\n",
       "    <tr>\n",
       "      <th>3</th>\n",
       "      <td>536365</td>\n",
       "      <td>84029G</td>\n",
       "      <td>KNITTED UNION FLAG HOT WATER BOTTLE</td>\n",
       "      <td>6</td>\n",
       "      <td>2010-12-01 08:26:00</td>\n",
       "      <td>3.39</td>\n",
       "      <td>17850.0</td>\n",
       "      <td>United Kingdom</td>\n",
       "      <td>20.34</td>\n",
       "    </tr>\n",
       "    <tr>\n",
       "      <th>4</th>\n",
       "      <td>536365</td>\n",
       "      <td>84029E</td>\n",
       "      <td>RED WOOLLY HOTTIE WHITE HEART.</td>\n",
       "      <td>6</td>\n",
       "      <td>2010-12-01 08:26:00</td>\n",
       "      <td>3.39</td>\n",
       "      <td>17850.0</td>\n",
       "      <td>United Kingdom</td>\n",
       "      <td>20.34</td>\n",
       "    </tr>\n",
       "  </tbody>\n",
       "</table>\n",
       "</div>"
      ],
      "text/plain": [
       "  InvoiceNo StockCode                          Description  Quantity  \\\n",
       "0    536365    85123A   WHITE HANGING HEART T-LIGHT HOLDER         6   \n",
       "1    536365     71053                  WHITE METAL LANTERN         6   \n",
       "2    536365    84406B       CREAM CUPID HEARTS COAT HANGER         8   \n",
       "3    536365    84029G  KNITTED UNION FLAG HOT WATER BOTTLE         6   \n",
       "4    536365    84029E       RED WOOLLY HOTTIE WHITE HEART.         6   \n",
       "\n",
       "          InvoiceDate  UnitPrice  CustomerID         Country  TotalPrice  \n",
       "0 2010-12-01 08:26:00       2.55     17850.0  United Kingdom       15.30  \n",
       "1 2010-12-01 08:26:00       3.39     17850.0  United Kingdom       20.34  \n",
       "2 2010-12-01 08:26:00       2.75     17850.0  United Kingdom       22.00  \n",
       "3 2010-12-01 08:26:00       3.39     17850.0  United Kingdom       20.34  \n",
       "4 2010-12-01 08:26:00       3.39     17850.0  United Kingdom       20.34  "
      ]
     },
     "execution_count": 10,
     "metadata": {},
     "output_type": "execute_result"
    }
   ],
   "source": [
    "data['TotalPrice'] = data['Quantity'] * data['UnitPrice']\n",
    "data.head()\n"
   ]
  },
  {
   "cell_type": "markdown",
   "id": "d666cde2",
   "metadata": {},
   "source": [
    "### 11. Snapshot Date for Recency Calculation"
   ]
  },
  {
   "cell_type": "code",
   "execution_count": 11,
   "id": "be60ba7b",
   "metadata": {},
   "outputs": [],
   "source": [
    "snapshot_date = data['InvoiceDate'].max() + pd.Timedelta(days=1)\n"
   ]
  },
  {
   "cell_type": "markdown",
   "id": "6a887ce7",
   "metadata": {},
   "source": [
    "### 12. Build RFM Table (Recency, Frequency, Monetary)"
   ]
  },
  {
   "cell_type": "code",
   "execution_count": 12,
   "id": "12002be0",
   "metadata": {},
   "outputs": [],
   "source": [
    "rfm = data.groupby('CustomerID').agg({\n",
    "    'InvoiceDate': lambda x: (snapshot_date - x.max()).days,   # Recency\n",
    "    'InvoiceNo': 'nunique',                                    # Frequency\n",
    "    'TotalPrice': 'sum'                                        # Monetary\n",
    "}).rename(columns={'InvoiceDate':'Recency','InvoiceNo':'Frequency','TotalPrice':'Monetary'})\n"
   ]
  },
  {
   "cell_type": "markdown",
   "id": "b9745f91",
   "metadata": {},
   "source": [
    "### 13. Inspect RFM Sample"
   ]
  },
  {
   "cell_type": "code",
   "execution_count": 13,
   "id": "01a68951",
   "metadata": {},
   "outputs": [
    {
     "data": {
      "application/vnd.microsoft.datawrangler.viewer.v0+json": {
       "columns": [
        {
         "name": "CustomerID",
         "rawType": "float64",
         "type": "float"
        },
        {
         "name": "Recency",
         "rawType": "int64",
         "type": "integer"
        },
        {
         "name": "Frequency",
         "rawType": "int64",
         "type": "integer"
        },
        {
         "name": "Monetary",
         "rawType": "float64",
         "type": "float"
        }
       ],
       "ref": "8268b39a-7c51-458f-83b1-6a902dd95038",
       "rows": [
        [
         "12346.0",
         "326",
         "1",
         "77183.6"
        ],
        [
         "12347.0",
         "2",
         "7",
         "4310.0"
        ],
        [
         "12348.0",
         "75",
         "4",
         "1797.24"
        ],
        [
         "12349.0",
         "19",
         "1",
         "1757.55"
        ],
        [
         "12350.0",
         "310",
         "1",
         "334.4"
        ]
       ],
       "shape": {
        "columns": 3,
        "rows": 5
       }
      },
      "text/html": [
       "<div>\n",
       "<style scoped>\n",
       "    .dataframe tbody tr th:only-of-type {\n",
       "        vertical-align: middle;\n",
       "    }\n",
       "\n",
       "    .dataframe tbody tr th {\n",
       "        vertical-align: top;\n",
       "    }\n",
       "\n",
       "    .dataframe thead th {\n",
       "        text-align: right;\n",
       "    }\n",
       "</style>\n",
       "<table border=\"1\" class=\"dataframe\">\n",
       "  <thead>\n",
       "    <tr style=\"text-align: right;\">\n",
       "      <th></th>\n",
       "      <th>Recency</th>\n",
       "      <th>Frequency</th>\n",
       "      <th>Monetary</th>\n",
       "    </tr>\n",
       "    <tr>\n",
       "      <th>CustomerID</th>\n",
       "      <th></th>\n",
       "      <th></th>\n",
       "      <th></th>\n",
       "    </tr>\n",
       "  </thead>\n",
       "  <tbody>\n",
       "    <tr>\n",
       "      <th>12346.0</th>\n",
       "      <td>326</td>\n",
       "      <td>1</td>\n",
       "      <td>77183.60</td>\n",
       "    </tr>\n",
       "    <tr>\n",
       "      <th>12347.0</th>\n",
       "      <td>2</td>\n",
       "      <td>7</td>\n",
       "      <td>4310.00</td>\n",
       "    </tr>\n",
       "    <tr>\n",
       "      <th>12348.0</th>\n",
       "      <td>75</td>\n",
       "      <td>4</td>\n",
       "      <td>1797.24</td>\n",
       "    </tr>\n",
       "    <tr>\n",
       "      <th>12349.0</th>\n",
       "      <td>19</td>\n",
       "      <td>1</td>\n",
       "      <td>1757.55</td>\n",
       "    </tr>\n",
       "    <tr>\n",
       "      <th>12350.0</th>\n",
       "      <td>310</td>\n",
       "      <td>1</td>\n",
       "      <td>334.40</td>\n",
       "    </tr>\n",
       "  </tbody>\n",
       "</table>\n",
       "</div>"
      ],
      "text/plain": [
       "            Recency  Frequency  Monetary\n",
       "CustomerID                              \n",
       "12346.0         326          1  77183.60\n",
       "12347.0           2          7   4310.00\n",
       "12348.0          75          4   1797.24\n",
       "12349.0          19          1   1757.55\n",
       "12350.0         310          1    334.40"
      ]
     },
     "execution_count": 13,
     "metadata": {},
     "output_type": "execute_result"
    }
   ],
   "source": [
    "rfm.head()\n"
   ]
  },
  {
   "cell_type": "markdown",
   "id": "46abb2cf",
   "metadata": {},
   "source": [
    "### 14. Scale RFM Features (StandardScaler)"
   ]
  },
  {
   "cell_type": "code",
   "execution_count": 14,
   "id": "54487a29",
   "metadata": {},
   "outputs": [],
   "source": [
    "from sklearn.preprocessing import StandardScaler\n",
    "\n",
    "scaler = StandardScaler()\n",
    "rfm_scaled = scaler.fit_transform(rfm)\n"
   ]
  },
  {
   "cell_type": "markdown",
   "id": "a3429f61",
   "metadata": {},
   "source": [
    "### 15. Elbow Method — Select Optimal k"
   ]
  },
  {
   "cell_type": "code",
   "execution_count": 15,
   "id": "6230ab1a",
   "metadata": {},
   "outputs": [
    {
     "data": {
      "image/png": "[encoded data removed]",
      "text/plain": [
       "<Figure size 640x480 with 1 Axes>"
      ]
     },
     "metadata": {},
     "output_type": "display_data"
    }
   ],
   "source": [
    "from sklearn.cluster import KMeans\n",
    "import matplotlib.pyplot as plt\n",
    "\n",
    "inertia = []\n",
    "K = range(2, 10)\n",
    "\n",
    "for k in K:\n",
    "    kmeans = KMeans(n_clusters=k, random_state=42)\n",
    "    kmeans.fit(rfm_scaled)\n",
    "    inertia.append(kmeans.inertia_)\n",
    "\n",
    "plt.plot(K, inertia, marker='o')\n",
    "plt.title('Elbow Method for Optimal k')\n",
    "plt.xlabel('Number of clusters')\n",
    "plt.ylabel('Inertia')\n",
    "plt.show()\n"
   ]
  },
  {
   "cell_type": "markdown",
   "id": "23c1c0ef",
   "metadata": {},
   "source": [
    "### 16. Train K-Means and Assign Cluster Labels"
   ]
  },
  {
   "cell_type": "code",
   "execution_count": 16,
   "id": "75c389d7",
   "metadata": {},
   "outputs": [
    {
     "data": {
      "application/vnd.microsoft.datawrangler.viewer.v0+json": {
       "columns": [
        {
         "name": "CustomerID",
         "rawType": "float64",
         "type": "float"
        },
        {
         "name": "Recency",
         "rawType": "int64",
         "type": "integer"
        },
        {
         "name": "Frequency",
         "rawType": "int64",
         "type": "integer"
        },
        {
         "name": "Monetary",
         "rawType": "float64",
         "type": "float"
        },
        {
         "name": "Cluster",
         "rawType": "int32",
         "type": "integer"
        }
       ],
       "ref": "31b79245-ee0c-4b6b-87e4-889cf05ce395",
       "rows": [
        [
         "12346.0",
         "326",
         "1",
         "77183.6",
         "3"
        ],
        [
         "12347.0",
         "2",
         "7",
         "4310.0",
         "0"
        ],
        [
         "12348.0",
         "75",
         "4",
         "1797.24",
         "0"
        ],
        [
         "12349.0",
         "19",
         "1",
         "1757.55",
         "0"
        ],
        [
         "12350.0",
         "310",
         "1",
         "334.4",
         "1"
        ]
       ],
       "shape": {
        "columns": 4,
        "rows": 5
       }
      },
      "text/html": [
       "<div>\n",
       "<style scoped>\n",
       "    .dataframe tbody tr th:only-of-type {\n",
       "        vertical-align: middle;\n",
       "    }\n",
       "\n",
       "    .dataframe tbody tr th {\n",
       "        vertical-align: top;\n",
       "    }\n",
       "\n",
       "    .dataframe thead th {\n",
       "        text-align: right;\n",
       "    }\n",
       "</style>\n",
       "<table border=\"1\" class=\"dataframe\">\n",
       "  <thead>\n",
       "    <tr style=\"text-align: right;\">\n",
       "      <th></th>\n",
       "      <th>Recency</th>\n",
       "      <th>Frequency</th>\n",
       "      <th>Monetary</th>\n",
       "      <th>Cluster</th>\n",
       "    </tr>\n",
       "    <tr>\n",
       "      <th>CustomerID</th>\n",
       "      <th></th>\n",
       "      <th></th>\n",
       "      <th></th>\n",
       "      <th></th>\n",
       "    </tr>\n",
       "  </thead>\n",
       "  <tbody>\n",
       "    <tr>\n",
       "      <th>12346.0</th>\n",
       "      <td>326</td>\n",
       "      <td>1</td>\n",
       "      <td>77183.60</td>\n",
       "      <td>3</td>\n",
       "    </tr>\n",
       "    <tr>\n",
       "      <th>12347.0</th>\n",
       "      <td>2</td>\n",
       "      <td>7</td>\n",
       "      <td>4310.00</td>\n",
       "      <td>0</td>\n",
       "    </tr>\n",
       "    <tr>\n",
       "      <th>12348.0</th>\n",
       "      <td>75</td>\n",
       "      <td>4</td>\n",
       "      <td>1797.24</td>\n",
       "      <td>0</td>\n",
       "    </tr>\n",
       "    <tr>\n",
       "      <th>12349.0</th>\n",
       "      <td>19</td>\n",
       "      <td>1</td>\n",
       "      <td>1757.55</td>\n",
       "      <td>0</td>\n",
       "    </tr>\n",
       "    <tr>\n",
       "      <th>12350.0</th>\n",
       "      <td>310</td>\n",
       "      <td>1</td>\n",
       "      <td>334.40</td>\n",
       "      <td>1</td>\n",
       "    </tr>\n",
       "  </tbody>\n",
       "</table>\n",
       "</div>"
      ],
      "text/plain": [
       "            Recency  Frequency  Monetary  Cluster\n",
       "CustomerID                                       \n",
       "12346.0         326          1  77183.60        3\n",
       "12347.0           2          7   4310.00        0\n",
       "12348.0          75          4   1797.24        0\n",
       "12349.0          19          1   1757.55        0\n",
       "12350.0         310          1    334.40        1"
      ]
     },
     "execution_count": 16,
     "metadata": {},
     "output_type": "execute_result"
    }
   ],
   "source": [
    "kmeans = KMeans(n_clusters=4, random_state=42)\n",
    "rfm['Cluster'] = kmeans.fit_predict(rfm_scaled)\n",
    "rfm.head()\n"
   ]
  },
  {
   "cell_type": "markdown",
   "id": "70f0fb01",
   "metadata": {},
   "source": [
    "### 17. Cluster Summary (Size and RFM Means)"
   ]
  },
  {
   "cell_type": "code",
   "execution_count": 17,
   "id": "54c1e8d3",
   "metadata": {},
   "outputs": [
    {
     "data": {
      "application/vnd.microsoft.datawrangler.viewer.v0+json": {
       "columns": [
        {
         "name": "Cluster",
         "rawType": "int32",
         "type": "integer"
        },
        {
         "name": "Count",
         "rawType": "int64",
         "type": "integer"
        },
        {
         "name": "Frequency",
         "rawType": "float64",
         "type": "float"
        },
        {
         "name": "Monetary",
         "rawType": "float64",
         "type": "float"
        }
       ],
       "ref": "f0bedbd6-da31-464e-961f-0400fe070eaf",
       "rows": [
        [
         "0",
         "3054",
         "3.682711198428291",
         "1359.0492838899802"
        ],
        [
         "1",
         "1067",
         "1.5520149953139644",
         "480.6174798500469"
        ],
        [
         "2",
         "13",
         "82.53846153846153",
         "127338.31384615385"
        ],
        [
         "3",
         "204",
         "22.333333333333332",
         "12709.090490196078"
        ]
       ],
       "shape": {
        "columns": 3,
        "rows": 4
       }
      },
      "text/html": [
       "<div>\n",
       "<style scoped>\n",
       "    .dataframe tbody tr th:only-of-type {\n",
       "        vertical-align: middle;\n",
       "    }\n",
       "\n",
       "    .dataframe tbody tr th {\n",
       "        vertical-align: top;\n",
       "    }\n",
       "\n",
       "    .dataframe thead th {\n",
       "        text-align: right;\n",
       "    }\n",
       "</style>\n",
       "<table border=\"1\" class=\"dataframe\">\n",
       "  <thead>\n",
       "    <tr style=\"text-align: right;\">\n",
       "      <th></th>\n",
       "      <th>Count</th>\n",
       "      <th>Frequency</th>\n",
       "      <th>Monetary</th>\n",
       "    </tr>\n",
       "    <tr>\n",
       "      <th>Cluster</th>\n",
       "      <th></th>\n",
       "      <th></th>\n",
       "      <th></th>\n",
       "    </tr>\n",
       "  </thead>\n",
       "  <tbody>\n",
       "    <tr>\n",
       "      <th>0</th>\n",
       "      <td>3054</td>\n",
       "      <td>3.682711</td>\n",
       "      <td>1359.049284</td>\n",
       "    </tr>\n",
       "    <tr>\n",
       "      <th>1</th>\n",
       "      <td>1067</td>\n",
       "      <td>1.552015</td>\n",
       "      <td>480.617480</td>\n",
       "    </tr>\n",
       "    <tr>\n",
       "      <th>2</th>\n",
       "      <td>13</td>\n",
       "      <td>82.538462</td>\n",
       "      <td>127338.313846</td>\n",
       "    </tr>\n",
       "    <tr>\n",
       "      <th>3</th>\n",
       "      <td>204</td>\n",
       "      <td>22.333333</td>\n",
       "      <td>12709.090490</td>\n",
       "    </tr>\n",
       "  </tbody>\n",
       "</table>\n",
       "</div>"
      ],
      "text/plain": [
       "         Count  Frequency       Monetary\n",
       "Cluster                                 \n",
       "0         3054   3.682711    1359.049284\n",
       "1         1067   1.552015     480.617480\n",
       "2           13  82.538462  127338.313846\n",
       "3          204  22.333333   12709.090490"
      ]
     },
     "execution_count": 17,
     "metadata": {},
     "output_type": "execute_result"
    }
   ],
   "source": [
    "cluster_summary = rfm.groupby('Cluster').agg({\n",
    "    'Recency':'mean',\n",
    "    'Frequency':'mean',\n",
    "    'Monetary':'mean',\n",
    "    'Recency':'count'\n",
    "}).rename(columns={'Recency':'Count'})\n",
    "cluster_summary\n"
   ]
  },
  {
   "cell_type": "markdown",
   "id": "dc9f7ae2",
   "metadata": {},
   "source": [
    "### 18. 3D Visualization of Customer Segments"
   ]
  },
  {
   "cell_type": "code",
   "execution_count": 18,
   "id": "37a94873",
   "metadata": {},
   "outputs": [
    {
     "data": {
      "application/vnd.plotly.v1+json": {
       "config": {
        "plotlyServerURL": "https://plot.ly"
       },
       "data": [
        {
         "hovertemplate": "color=3<br>Recency=%{x}<br>Frequency=%{y}<br>Monetary=%{z}<extra></extra>",
         "legendgroup": "3",
         "marker": {
          "color": "#636efa",
          "symbol": "circle"
         },
         "mode": "markers",
         "name": "3",
         "scene": "scene",
         "showlegend": true,
         "type": "scatter3d",
         "x": {
          "bdata": "RgEkAAIAAgARABQAAgADAAIAKgAPAAQABAAPAAMAGAA0ABAAAwAFAAkACQAWAAQAAwAEAAwAEAAPAAEAAwAMAAkAAQABAAEABAABAAMAAQAFAAIADAAHAAIAEQACAAoAAQADAAQAAgACAAEAAQAJAAQABwAEAAcAAQABABgABQAKAAIACgAEAAIACwACAAUAAgADAAgACAADAAMAAwAdAAcABAABABAACwAZAAgAAQAQAAQAAQAWAAsACAAQAAoAEwAJAAQABwC2ABkACAACAAIAAQADAAcABQAaAAUAFAAQAAMAEAAhAAcADAALAAoABAABABMA6wAHABcACwAEAAUAWgAIAAQABgAEAAIACwAgAAIACAAEABEAAwACAAIAAQAEAAEAFgACAAQAAQATACYAVwAFAAIADgAJACsABAAMAFAABQAWAAMADAAQAAMAAQALAAIAHgAEABgACQABAAQAAQAIAAEABwABAAIAHgAEACYAAgABAAQAdAEEAB8ABAABABUADAACAAsADwAEAAUADAAKAAQA",
          "dtype": "i2"
         },
         "y": {
          "bdata": "AQ8SHhIRIA8UDBYfDw8ZDAcNDhkcJQ9WDw0SHBEYGgsOHBgYJiMTDxo+Eg4lDRkSFRUyDiUhORkUEg8TFxcREwwSDREPGQ8VEQ8sEBM3EhAWEl0OGRAVEQwgERkMFBwvEQ8wIAMPER4QKQ8PEg8WEgwbDBMOEA4XDw4QAxoRExsPDxAvFCETGw8SFhczEhUaFBARDxQcFA8VERIWFSIQEBMRFRMUFQwRGhMmCw8UHSIPHBMZDx8eDxEPEx4nIhcUES0nFRoaFBEOFBEQ",
          "dtype": "i1"
         },
         "z": {
          "bdata": "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",
          "dtype": "f8"
         }
        },
        {
         "hovertemplate": "color=0<br>Recency=%{x}<br>Frequency=%{y}<br>Monetary=%{z}<extra></extra>",
         "legendgroup": "0",
         "marker": {
          "color": "#EF553B",
          "symbol": "circle"
         },
         "mode": "markers",
         "name": "0",
         "scene": "scene",
         "showlegend": true,
         "type": "scatter3d",
         "x": {
          "bdata": "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",
          "dtype": "i2"
         },
         "y": {
          "bdata": "BwQBCAMBAgQDCgIEAQQCAwECAQIEBQIGAQEEAgwCAQQBAgUFAwMDCQEBBAMIAQMJBAEFBwICAQIBBQEBAQQFAgEBBgMHAgICBAgCBwUBCwYBAQQKCAYDCgECBwEDCwUCAwICAgECBQUBBQILCAMDBgQBAQECAwEEAwECAgECCgIFAQMHAQoCAgUDAgEBCQEBAQICAwoCBAgHCgEBAgEDBQEBBQQCAQEJAwIJBwMCAQQCCAEDAQMGAQQCDAMBBQUEAQEBCwkBBAUCBAYEBAcGAQIGBAIEAwQCAQEICQoDDQEFAQIBAgYEBQQHBwQBAgECCwUBAQYBAgMCAgcBBQYIAgUGAgMBAgEDAwEBAgQCBQEHAwYGAgQCBAIIAgECAQYDBgEBAgcCAgIMAwIEAQMCAQECAgUFCAUFBAEGAQEEAgUCAwcEBAEIAgMCBgcIAwYEAQsIAggBAQEECQIBAgIDAgQDAQQDAwEIDQoFAwEJAgUGAgMCAgICAwMCAQIKBAIDAwEEAgECAQQFCQIBBQwBCgEBBgEEAgcEAQgFAgMIAQEDBAUIBgcDBQEEAQQMBAEEBAQEAQQCBAQCAQMCAwEBCwEJCgMBAgIBAQQGBAQCBggBAwMFAwEEAgcBDgcCAgQEAwEBBgQCAwIDAQEFDAsBAgECBAEBAwMCBAIBBAEECgEDBQMCBQMEBgMEAgEFCgEIAgMBAwEHAwEBAQIBAQEBAQEEAgECAQEDAQMDBgcCAwEIAgUCAQIDBQEDAgIBAgEDCgMBBAICAgcBBwEDBgEGBQIGAgMBAgIEAgYFAQMDBAoDBQIFAwMBAQQEBwQBAQQDAwEBBgMBBQUCBwIBBwcDAgMCBwwEAgQBAwIDAgICDAIFBAIBCQIGAwQFAQIBAgEBAwEHAwQDAQUFCwcLBQUBBQMBAQMEAQQGAgMGAgIFAwMCAQIEBAcBAQMPAQoJAw0BBgUEAQMIAgIGAgEEAgEDDAcCBQUGCQcCAgIBAwoEAwEBAgYLAgECAgIBAwcCAQUDAwQCBAICAgIFAwEGAQQECQEBAwMCAQMBAQUIBAEDAgQIDQMFAQEBDQUFBQECAQoEAwQBAgUCBAkCAgICAQYEAQEEAgICAQMEBQMBBgQHAgUDAgIIAgEGAgEBBAwFAQYCBgEJBgUMAwIHBQMDAQEDAgICAQIICwMFAwEMBAQFBAIBAgEBBQIIAQMBBQYBAQkBAQ4BAQsBBgUHAgEMBAcEBQQBAwMDAgULAwIBAgQBBAUCAgICAQsEAgQBBAEDBAcCAQYNAgEEBwECAQYGCQEFBgQBAQkDBAUKAwUEBAUCCwIKAwMFBQkBAggCAgQDAwIEAwMGBQsJBAEECQEBAwIGCQYBBgEFAgcCAwEIAgQIBAgBAgECAgEDBAEIAgEBAwMDCAIJCQINBAYBBgcGCQIHDQIDBgECBgEKAgUGBgEFBAQEBQIEAgIJAwsDBwQCCAIBAwQBBgEBBgEFAQIFAwMLBgQIBQYCBQMDBgIBAgQBCQkBAwYHAwECAgMIAgUIAgIFBAIBAwQBAgEHBAEBAQUBCQQDAwIGAgEBBAQDBQUCBAICAwIBBgYBAQIEAgEHBAQCCQIBBAIFAQUBBgMFAQIFBAcFAwkBCQMNBAsDCwEEAgUDBgEIAwgDBwcGBwUFAQECCwEBBAMCAQMGAggBAwsCAgICAgEEAQEHAwEMAQEEAQgLAgMCBAQMBAEGAwQGBAQCBgIHAgMCBAEBAgECCAIEAgkDAQIGAQECAQQGCQEFAgcBBAIEAgQCAgEBAwUCCAMMAQIGAQELAQEEAgkFAgEBAQQDAQMBAQcFAgICAwEEAQMBAgIBAwkECwoBAwQEAgQKCAEDBgEEAwMDAgsJBAQEAQMCAgMBAQUCBgEGBAEBAQICBwUEBAMDCgEEBQEBAgMCAgEECwUDCAQHAQQBAQoNAQEDAwECAwEFAQUDAgECAwEBAwIEBQYCBAUCCAMBCwYFBAIEAwIFCAECAwENCwIFAQEHAQEBBQEHAgIBAQEJAQIFAwYDDAcBDAgDAQQBAgEBAwEBAQMCAQIBAQEDAQEHAgoBAgcCBAEHAQwBAwUGAQQCBAECAwUCBAgEAwQBAQQBBQMBAgEFAQMBAwcCAwEDBwEDAQEDAgIBAQcBAgEEAwEDBgIFAgIEAQUDBQsDCAEIAgEBAwIICwQCBAMBAQEJAgMEAQEBAQQEAgEDBQwEBwIBAg0DBAQBAQUFAQECCQEBBQkEAQ0CBAEDBAkBBAQCCQIIAQIBAQQBAwECAgQBAQkBAQEEBwQFAwMBAQQDBQEJAgIBCAEEBAQEBwUCAgQNAQEFAQcDAggBAQQBBAEDAQgHAwYEAgECAgYBAwEBAQMDAQUDAwECAwgEAwIDAQ0DAwUEBgUEBQQCAgMOAgEDBAQBAQMCBAEIAgIBDAUBBQgIBAIGAwEBAgcCAgMBAQUBAwcBBwMICAIBCAMBBQEBAgIEAgQIDgEBAgQCAwwHAQIBAwgECgIBBwECAQcBBgUDBQQEAwQDAwMIAQIJAwMBAQEGAgIDAwMFBAQDAQIBBwYEBQIBCgMCBQIFBQMBBAcDAQMGAQEHAQMECAIEAgQBBAEFBgIDAwIBBgsBAgUFCQMCAwQGAQUGAwQBAQEIAQQBBgIMBAIBDQECBAQBBAQBAgUBAgEBBwMEBQIEAwUBAgINBwIDAQUCCAUBBAkHAgUBAQMBBQIBCgQDAQMBBAICAggDAQUCAwMOBgMHAQEEBAIBAgcEAgIDBAkGBAUBAgkBAgIDBAICAgQBAgIDAgQNBQUCAQwBAQoFAgEBAgEDAwYBCgEBAQEHBQUCAwQBAQECBwUDAwQDBwEEBAcEBwMCAQEBAwEEAwMGBgQBAQIDBAUBAgIBAQcDAwEBBAEKBQMMAwIHAgICAQUBCgMDAgEBAgMBAwEBAgEGAQECDgcEAQIFAgQCAQUCBgQKAwECAQEHAgQGBAQBAgYDCwMCBAwBBgUCBwQCAgIEDQ0DAQUKBQsBBgcBDQIFBAMBAwUBAQcHAgUFAQEDAQMBAw0LAwUFAQQLAQICAg0BAgEGBwEKAQEBAwQDAgUCCgQJCwECAgECAQQCAgsGAwEBAQMCAgECAgMEBgMGBQYBBwEDAgMBBQUBAwYDAQEHBAUBCAsBBgIGCwEDAwcDAQICAQQDCQMGAwMCAQkBAQMBBwIDAQEGAQcCCgIHAQYFBgILAwIEBgEBAwMCBAEDAwYCAQIDAwEBAQMFBAEDAwMJBgEBBQMFCwcDCQEJBAQDAgECAgIDAgUGBAcJBAMECAIEBgYBCAMCAQEFBwIHAgMEAQEBAgIDAwYKAgcCAgEIBAQCBgIHAgIHBwEDAQYBAQgHBgoBDgIBBggCCgIBAgYCAgEBAQICAQICAgUCAwIEBAEBAwYBBwcDAgkDAQIEAQUBAgMBCAMDAgcEAgIBAQgCAQQBBQQDAgECAQMDCwgIBAMIBAIBAQECAQYCBAgCAwUNAQMFAwcCAQcCDAMGAgIGAQMCAgEHAgYCBwcCBQECBgMCBQICBQUBAQQDAgcKAgEDBAIBCAEKAQEEBQYBAwUEBAQICgECAQIDAgQBBQIDBAEHAwIIBAQDAwIEAwQDBwUCAgcBBgECBQYOAQMDAQMBAgQBCAMECQECAQILAQQBAQoMBAcFAgwBBwICBQIHBAIGAgYCAQYBBwcEAQECCAQEAwkCAQsEBAYDCwEDDQQCAwMCBAcCBgEJBQgDAgECAQMKAgIEAwMCAQICDgEBBAMKCQMBAQwEBQQDBwEFBAMBAQMBCAUBAQEJAgQMCAYDBgUMBQEEBAEDAQgDCAEBAgEBBAECAQMBBAcCAgQFAgMCAgEHCgEBAQMDDAEBAQIOBQEDDQEEAQEHBAgCAgIBCQEBBQMCAQEBAgECAwMCAQMKAQEKAQMKAg4BAQUMCgsEAgMBAQIBCwQHAwYBAgEBAQIIAQYCBAEDAwUDBgIMBAICAwMCAgMCAgIFAQMBAwUEAQYEBgYBAQMCAQECAQMCAQYFAQECCgUBDAsCBwQDBgUBBAcCAgEBAgEIAwIBAwIBAgYDAQEBAQID",
          "dtype": "i1"
         },
         "z": {
          "bdata": "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",
          "dtype": "f8"
         }
        },
        {
         "hovertemplate": "color=1<br>Recency=%{x}<br>Frequency=%{y}<br>Monetary=%{z}<extra></extra>",
         "legendgroup": "1",
         "marker": {
          "color": "#00cc96",
          "symbol": "circle"
         },
         "mode": "markers",
         "name": "1",
         "scene": "scene",
         "showlegend": true,
         "type": "scatter3d",
         "x": {
          "bdata": "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",
          "dtype": "i2"
         },
         "y": {
          "bdata": "AQEBAQECAQIFAgEBAQIDAgEBAQICAQIBAQEBAQECAQECAQEBAQEBAgICAQUBAQECAQEBAQIBAwEBAQECAQEBAQIBAQMCAQEBAQEBAQIBAQEDAgEBAQIBAQEBBAEBAgEGAgECAQIDAgECAgEBAQECAQEBAQEDAQIBAQEBAQEBAQEBAQEBAggBAQEBAQIBAQEBAQEBAQICAQEBAQEBAgIBAQEBAgEBAQEBAQEBAQEBAQECAQEBAQEBAQIBAgIBAQEEAgIBAQECAQIBAgEBAgMBAQEBAQEBAQEBAQEBAgICAQECAgEBAQEBAQECAQIBBQECAQIBAQEBAQECAQEBAQEBAQMDAgEBAgEDAQEBAgEBAQMBAgEBAQEBAwICBAEBAQEBAgEEAwEBAgEBAQEBAQIBAQIBAgEBAQEBAgEDAgEEAQIBAQIBAwEBAQICAQECAgMBAQEBAQECAQECAQEBAQEEAQEBAQEBAgEBAQEBAQEBAQECAwEBAQMDAQICAQECAgECAgQBAQIBAQIJAQQBAQEBAwECAQIBAQICAQIDAgICAQECAQEBAQEDAQEBAgMBAQMCAQIBAwMBAQEDAQEBAQEBAgICAgEBAQEDAQEBAgECAQEBAQMBAQIBAQECAQEBAQQBAQECAwIGAQEBAQIBAgEBAQEBAQEBAgEBAQIBAQECAgEBAgEMAQIBAQIBAgEBAQEBAQEBAQEEAQMBAQIBAgEBBwICAQEBAQECAQEBAQICAgEBAQEBAQMBAQEEAQEGAQIBAQQBAQEBAQQDAQEDAQEDBAMCAgEFAgIBAQECAgEBAQEBAgECAQEDAQQDAQEBBAIBAQEBAQICAQUEAgECAQIBAQIBAgQBAQEBAgEBAQEBAgEDAQEDAwIBAQEBAQEBAQECAQEBAgEBAQEBAQEBAQMBAQEBAgEBAwECAQMBAgIBAgEBAQEBAQEBAQYBAQIBAQEBAQEDAQMBAQICAQIBAQIDAQIBAQEBAwECAQICAQEBAwEBAQICAQIBAQEBAQEBAQEBAQECAQICAQEBAQIBAgMCAQEHAQEBAQEBAQEBAgEBAgEEAgEBAQEDAQIBAQECAgMBAgEBAQMBBAIBAQEBAgEDBAICAQEBBAEBAgEBAQEBAQUBAQEBAwEBAQEDAQIEAQECAQgBAQEBAgECAQEBAQIEAwEBAQICAQIDAgIBAwECAQEDAQMCBAEBAQMBAQEBAgkCAgEBAQEBAQEBAQMBAQEBAQMBAQECAwECAQEDAQEBAgEBAQICAgEBAQEBAQIBAQMFAQIEAQIBAQQCAQEBAQEBBgEBAQECAgEBAwECAQEFAQEBAgEEAQEBAQIBAQEBAwEBAwIBAQEBAQICAQYCAQEDAQIBAQICAQIBAQEBAQECAQEBAgEBBgECAQIBAQMBAQECAQEBBQEFAQYBAQE=",
          "dtype": "i1"
         },
         "z": {
          "bdata": "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",
          "dtype": "f8"
         }
        },
        {
         "hovertemplate": "color=2<br>Recency=%{x}<br>Frequency=%{y}<br>Monetary=%{z}<extra></extra>",
         "legendgroup": "2",
         "marker": {
          "color": "#ab63fa",
          "symbol": "circle"
         },
         "mode": "markers",
         "name": "2",
         "scene": "scene",
         "showlegend": true,
         "type": "scatter3d",
         "x": {
          "bdata": "GAEDCgIBAScBCAMCAQ==",
          "dtype": "i1"
         },
         "y": {
          "bdata": "FQDRAGEANwBJAMkAWwA/AAIALgAfAHwAPAA=",
          "dtype": "i2"
         },
         "z": {
          "bdata": "rkfheih//kDD9Shc93bgQPYoXI86uexASOF6FDqo/EBI4XoUOBoRQa5H4XqIjgFBzczMzPyr7UAK16NwDcjzQAAAAADEkARBH4XrUba/B0FI4XoUZjv2QNejcD3yA+RAZmZmZkqyD0E=",
          "dtype": "f8"
         }
        }
       ],
       "layout": {
        "legend": {
         "title": {
          "text": "color"
         },
         "tracegroupgap": 0
        },
        "scene": {
         "domain": {
          "x": [
           0,
           1
          ],
          "y": [
           0,
           1
          ]
         },
         "xaxis": {
          "title": {
           "text": "Recency"
          }
         },
         "yaxis": {
          "title": {
           "text": "Frequency"
          }
         },
         "zaxis": {
          "title": {
           "text": "Monetary"
          }
         }
        },
        "template": {
         "data": {
          "bar": [
           {
            "error_x": {
             "color": "#2a3f5f"
            },
            "error_y": {
             "color": "#2a3f5f"
            },
            "marker": {
             "line": {
              "color": "#E5ECF6",
              "width": 0.5
             },
             "pattern": {
              "fillmode": "overlay",
              "size": 10,
              "solidity": 0.2
             }
            },
            "type": "bar"
           }
          ],
          "barpolar": [
           {
            "marker": {
             "line": {
              "color": "#E5ECF6",
              "width": 0.5
             },
             "pattern": {
              "fillmode": "overlay",
              "size": 10,
              "solidity": 0.2
             }
            },
            "type": "barpolar"
           }
          ],
          "carpet": [
           {
            "aaxis": {
             "endlinecolor": "#2a3f5f",
             "gridcolor": "white",
             "linecolor": "white",
             "minorgridcolor": "white",
             "startlinecolor": "#2a3f5f"
            },
            "baxis": {
             "endlinecolor": "#2a3f5f",
             "gridcolor": "white",
             "linecolor": "white",
             "minorgridcolor": "white",
             "startlinecolor": "#2a3f5f"
            },
            "type": "carpet"
           }
          ],
          "choropleth": [
           {
            "colorbar": {
             "outlinewidth": 0,
             "ticks": ""
            },
            "type": "choropleth"
           }
          ],
          "contour": [
           {
            "colorbar": {
             "outlinewidth": 0,
             "ticks": ""
            },
            "colorscale": [
             [
              0,
              "#0d0887"
             ],
             [
              0.1111111111111111,
              "#46039f"
             ],
             [
              0.2222222222222222,
              "#7201a8"
             ],
             [
              0.3333333333333333,
              "#9c179e"
             ],
             [
              0.4444444444444444,
              "#bd3786"
             ],
             [
              0.5555555555555556,
              "#d8576b"
             ],
             [
              0.6666666666666666,
              "#ed7953"
             ],
             [
              0.7777777777777778,
              "#fb9f3a"
             ],
             [
              0.8888888888888888,
              "#fdca26"
             ],
             [
              1,
              "#f0f921"
             ]
            ],
            "type": "contour"
           }
          ],
          "contourcarpet": [
           {
            "colorbar": {
             "outlinewidth": 0,
             "ticks": ""
            },
            "type": "contourcarpet"
           }
          ],
          "heatmap": [
           {
            "colorbar": {
             "outlinewidth": 0,
             "ticks": ""
            },
            "colorscale": [
             [
              0,
              "#0d0887"
             ],
             [
              0.1111111111111111,
              "#46039f"
             ],
             [
              0.2222222222222222,
              "#7201a8"
             ],
             [
              0.3333333333333333,
              "#9c179e"
             ],
             [
              0.4444444444444444,
              "#bd3786"
             ],
             [
              0.5555555555555556,
              "#d8576b"
             ],
             [
              0.6666666666666666,
              "#ed7953"
             ],
             [
              0.7777777777777778,
              "#fb9f3a"
             ],
             [
              0.8888888888888888,
              "#fdca26"
             ],
             [
              1,
              "#f0f921"
             ]
            ],
            "type": "heatmap"
           }
          ],
          "histogram": [
           {
            "marker": {
             "pattern": {
              "fillmode": "overlay",
              "size": 10,
              "solidity": 0.2
             }
            },
            "type": "histogram"
           }
          ],
          "histogram2d": [
           {
            "colorbar": {
             "outlinewidth": 0,
             "ticks": ""
            },
            "colorscale": [
             [
              0,
              "#0d0887"
             ],
             [
              0.1111111111111111,
              "#46039f"
             ],
             [
              0.2222222222222222,
              "#7201a8"
             ],
             [
              0.3333333333333333,
              "#9c179e"
             ],
             [
              0.4444444444444444,
              "#bd3786"
             ],
             [
              0.5555555555555556,
              "#d8576b"
             ],
             [
              0.6666666666666666,
              "#ed7953"
             ],
             [
              0.7777777777777778,
              "#fb9f3a"
             ],
             [
              0.8888888888888888,
              "#fdca26"
             ],
             [
              1,
              "#f0f921"
             ]
            ],
            "type": "histogram2d"
           }
          ],
          "histogram2dcontour": [
           {
            "colorbar": {
             "outlinewidth": 0,
             "ticks": ""
            },
            "colorscale": [
             [
              0,
              "#0d0887"
             ],
             [
              0.1111111111111111,
              "#46039f"
             ],
             [
              0.2222222222222222,
              "#7201a8"
             ],
             [
              0.3333333333333333,
              "#9c179e"
             ],
             [
              0.4444444444444444,
              "#bd3786"
             ],
             [
              0.5555555555555556,
              "#d8576b"
             ],
             [
              0.6666666666666666,
              "#ed7953"
             ],
             [
              0.7777777777777778,
              "#fb9f3a"
             ],
             [
              0.8888888888888888,
              "#fdca26"
             ],
             [
              1,
              "#f0f921"
             ]
            ],
            "type": "histogram2dcontour"
           }
          ],
          "mesh3d": [
           {
            "colorbar": {
             "outlinewidth": 0,
             "ticks": ""
            },
            "type": "mesh3d"
           }
          ],
          "parcoords": [
           {
            "line": {
             "colorbar": {
              "outlinewidth": 0,
              "ticks": ""
             }
            },
            "type": "parcoords"
           }
          ],
          "pie": [
           {
            "automargin": true,
            "type": "pie"
           }
          ],
          "scatter": [
           {
            "fillpattern": {
             "fillmode": "overlay",
             "size": 10,
             "solidity": 0.2
            },
            "type": "scatter"
           }
          ],
          "scatter3d": [
           {
            "line": {
             "colorbar": {
              "outlinewidth": 0,
              "ticks": ""
             }
            },
            "marker": {
             "colorbar": {
              "outlinewidth": 0,
              "ticks": ""
             }
            },
            "type": "scatter3d"
           }
          ],
          "scattercarpet": [
           {
            "marker": {
             "colorbar": {
              "outlinewidth": 0,
              "ticks": ""
             }
            },
            "type": "scattercarpet"
           }
          ],
          "scattergeo": [
           {
            "marker": {
             "colorbar": {
              "outlinewidth": 0,
              "ticks": ""
             }
            },
            "type": "scattergeo"
           }
          ],
          "scattergl": [
           {
            "marker": {
             "colorbar": {
              "outlinewidth": 0,
              "ticks": ""
             }
            },
            "type": "scattergl"
           }
          ],
          "scattermap": [
           {
            "marker": {
             "colorbar": {
              "outlinewidth": 0,
              "ticks": ""
             }
            },
            "type": "scattermap"
           }
          ],
          "scattermapbox": [
           {
            "marker": {
             "colorbar": {
              "outlinewidth": 0,
              "ticks": ""
             }
            },
            "type": "scattermapbox"
           }
          ],
          "scatterpolar": [
           {
            "marker": {
             "colorbar": {
              "outlinewidth": 0,
              "ticks": ""
             }
            },
            "type": "scatterpolar"
           }
          ],
          "scatterpolargl": [
           {
            "marker": {
             "colorbar": {
              "outlinewidth": 0,
              "ticks": ""
             }
            },
            "type": "scatterpolargl"
           }
          ],
          "scatterternary": [
           {
            "marker": {
             "colorbar": {
              "outlinewidth": 0,
              "ticks": ""
             }
            },
            "type": "scatterternary"
           }
          ],
          "surface": [
           {
            "colorbar": {
             "outlinewidth": 0,
             "ticks": ""
            },
            "colorscale": [
             [
              0,
              "#0d0887"
             ],
             [
              0.1111111111111111,
              "#46039f"
             ],
             [
              0.2222222222222222,
              "#7201a8"
             ],
             [
              0.3333333333333333,
              "#9c179e"
             ],
             [
              0.4444444444444444,
              "#bd3786"
             ],
             [
              0.5555555555555556,
              "#d8576b"
             ],
             [
              0.6666666666666666,
              "#ed7953"
             ],
             [
              0.7777777777777778,
              "#fb9f3a"
             ],
             [
              0.8888888888888888,
              "#fdca26"
             ],
             [
              1,
              "#f0f921"
             ]
            ],
            "type": "surface"
           }
          ],
          "table": [
           {
            "cells": {
             "fill": {
              "color": "#EBF0F8"
             },
             "line": {
              "color": "white"
             }
            },
            "header": {
             "fill": {
              "color": "#C8D4E3"
             },
             "line": {
              "color": "white"
             }
            },
            "type": "table"
           }
          ]
         },
         "layout": {
          "annotationdefaults": {
           "arrowcolor": "#2a3f5f",
           "arrowhead": 0,
           "arrowwidth": 1
          },
          "autotypenumbers": "strict",
          "coloraxis": {
           "colorbar": {
            "outlinewidth": 0,
            "ticks": ""
           }
          },
          "colorscale": {
           "diverging": [
            [
             0,
             "#8e0152"
            ],
            [
             0.1,
             "#c51b7d"
            ],
            [
             0.2,
             "#de77ae"
            ],
            [
             0.3,
             "#f1b6da"
            ],
            [
             0.4,
             "#fde0ef"
            ],
            [
             0.5,
             "#f7f7f7"
            ],
            [
             0.6,
             "#e6f5d0"
            ],
            [
             0.7,
             "#b8e186"
            ],
            [
             0.8,
             "#7fbc41"
            ],
            [
             0.9,
             "#4d9221"
            ],
            [
             1,
             "#276419"
            ]
           ],
           "sequential": [
            [
             0,
             "#0d0887"
            ],
            [
             0.1111111111111111,
             "#46039f"
            ],
            [
             0.2222222222222222,
             "#7201a8"
            ],
            [
             0.3333333333333333,
             "#9c179e"
            ],
            [
             0.4444444444444444,
             "#bd3786"
            ],
            [
             0.5555555555555556,
             "#d8576b"
            ],
            [
             0.6666666666666666,
             "#ed7953"
            ],
            [
             0.7777777777777778,
             "#fb9f3a"
            ],
            [
             0.8888888888888888,
             "#fdca26"
            ],
            [
             1,
             "#f0f921"
            ]
           ],
           "sequentialminus": [
            [
             0,
             "#0d0887"
            ],
            [
             0.1111111111111111,
             "#46039f"
            ],
            [
             0.2222222222222222,
             "#7201a8"
            ],
            [
             0.3333333333333333,
             "#9c179e"
            ],
            [
             0.4444444444444444,
             "#bd3786"
            ],
            [
             0.5555555555555556,
             "#d8576b"
            ],
            [
             0.6666666666666666,
             "#ed7953"
            ],
            [
             0.7777777777777778,
             "#fb9f3a"
            ],
            [
             0.8888888888888888,
             "#fdca26"
            ],
            [
             1,
             "#f0f921"
            ]
           ]
          },
          "colorway": [
           "#636efa",
           "#EF553B",
           "#00cc96",
           "#ab63fa",
           "#FFA15A",
           "#19d3f3",
           "#FF6692",
           "#B6E880",
           "#FF97FF",
           "#FECB52"
          ],
          "font": {
           "color": "#2a3f5f"
          },
          "geo": {
           "bgcolor": "white",
           "lakecolor": "white",
           "landcolor": "#E5ECF6",
           "showlakes": true,
           "showland": true,
           "subunitcolor": "white"
          },
          "hoverlabel": {
           "align": "left"
          },
          "hovermode": "closest",
          "mapbox": {
           "style": "light"
          },
          "paper_bgcolor": "white",
          "plot_bgcolor": "#E5ECF6",
          "polar": {
           "angularaxis": {
            "gridcolor": "white",
            "linecolor": "white",
            "ticks": ""
           },
           "bgcolor": "#E5ECF6",
           "radialaxis": {
            "gridcolor": "white",
            "linecolor": "white",
            "ticks": ""
           }
          },
          "scene": {
           "xaxis": {
            "backgroundcolor": "#E5ECF6",
            "gridcolor": "white",
            "gridwidth": 2,
            "linecolor": "white",
            "showbackground": true,
            "ticks": "",
            "zerolinecolor": "white"
           },
           "yaxis": {
            "backgroundcolor": "#E5ECF6",
            "gridcolor": "white",
            "gridwidth": 2,
            "linecolor": "white",
            "showbackground": true,
            "ticks": "",
            "zerolinecolor": "white"
           },
           "zaxis": {
            "backgroundcolor": "#E5ECF6",
            "gridcolor": "white",
            "gridwidth": 2,
            "linecolor": "white",
            "showbackground": true,
            "ticks": "",
            "zerolinecolor": "white"
           }
          },
          "shapedefaults": {
           "line": {
            "color": "#2a3f5f"
           }
          },
          "ternary": {
           "aaxis": {
            "gridcolor": "white",
            "linecolor": "white",
            "ticks": ""
           },
           "baxis": {
            "gridcolor": "white",
            "linecolor": "white",
            "ticks": ""
           },
           "bgcolor": "#E5ECF6",
           "caxis": {
            "gridcolor": "white",
            "linecolor": "white",
            "ticks": ""
           }
          },
          "title": {
           "x": 0.05
          },
          "xaxis": {
           "automargin": true,
           "gridcolor": "white",
           "linecolor": "white",
           "ticks": "",
           "title": {
            "standoff": 15
           },
           "zerolinecolor": "white",
           "zerolinewidth": 2
          },
          "yaxis": {
           "automargin": true,
           "gridcolor": "white",
           "linecolor": "white",
           "ticks": "",
           "title": {
            "standoff": 15
           },
           "zerolinecolor": "white",
           "zerolinewidth": 2
          }
         }
        },
        "title": {
         "text": "Customer Segments in 3D"
        }
       }
      }
     },
     "metadata": {},
     "output_type": "display_data"
    }
   ],
   "source": [
    "import plotly.express as px\n",
    "\n",
    "fig = px.scatter_3d(\n",
    "    rfm, x='Recency', y='Frequency', z='Monetary',\n",
    "    color=rfm['Cluster'].astype(str),\n",
    "    title='Customer Segments in 3D'\n",
    ")\n",
    "fig.show()\n"
   ]
  },
  {
   "cell_type": "markdown",
   "id": "d1d897c7",
   "metadata": {},
   "source": [
    "### 19. RFM Feature Distributions"
   ]
  },
  {
   "cell_type": "code",
   "execution_count": 25,
   "id": "72cd471f",
   "metadata": {},
   "outputs": [
    {
     "data": {
      "image/png": "[encoded data removed]",
      "text/plain": [
       "<Figure size 600x400 with 1 Axes>"
      ]
     },
     "metadata": {},
     "output_type": "display_data"
    },
    {
     "data": {
      "image/png": "[encoded data removed]",
      "text/plain": [
       "<Figure size 600x400 with 1 Axes>"
      ]
     },
     "metadata": {},
     "output_type": "display_data"
    },
    {
     "data": {
      "image/png": "[encoded data removed]",
      "text/plain": [
       "<Figure size 600x400 with 1 Axes>"
      ]
     },
     "metadata": {},
     "output_type": "display_data"
    }
   ],
   "source": [
    "# Recency Distribution\n",
    "plt.figure(figsize=(6, 4))\n",
    "sns.histplot(rfm['Recency'], bins=30, kde=True, color='#1f77b4')\n",
    "plt.title('Recency Distribution')\n",
    "plt.grid(alpha=0.2)\n",
    "plt.tight_layout()\n",
    "plt.show()\n",
    "\n",
    "# Frequency Distribution\n",
    "plt.figure(figsize=(6, 4))\n",
    "sns.histplot(rfm['Frequency'], bins=30, kde=True, color='#ff7f0e')\n",
    "plt.title('Frequency Distribution')\n",
    "plt.grid(alpha=0.2)\n",
    "plt.tight_layout()\n",
    "plt.show()\n",
    "\n",
    "# Monetary Distribution\n",
    "plt.figure(figsize=(6, 4))\n",
    "sns.histplot(rfm['Monetary'], bins=30, kde=True, color='#2ca02c')\n",
    "plt.title('Monetary Distribution')\n",
    "plt.grid(alpha=0.2)\n",
    "plt.tight_layout()\n",
    "plt.show()\n"
   ]
  },
  {
   "cell_type": "markdown",
   "id": "bff2475a",
   "metadata": {},
   "source": [
    "### 20. Correlation Heatmap (RFM)"
   ]
  },
  {
   "cell_type": "code",
   "execution_count": 20,
   "id": "3af4531b",
   "metadata": {},
   "outputs": [
    {
     "data": {
      "image/png": "[encoded data removed]",
      "text/plain": [
       "<Figure size 450x380 with 2 Axes>"
      ]
     },
     "metadata": {},
     "output_type": "display_data"
    }
   ],
   "source": [
    "corr = rfm[['Recency','Frequency','Monetary']].corr()\n",
    "plt.figure(figsize=(4.5,3.8))\n",
    "sns.heatmap(corr, annot=True, cmap='Blues', fmt='.2f', square=True, cbar_kws={'shrink':0.8})\n",
    "plt.title('RFM Correlation Heatmap')\n",
    "plt.tight_layout()\n",
    "plt.show()"
   ]
  },
  {
   "cell_type": "markdown",
   "id": "91480f33",
   "metadata": {},
   "source": [
    "### 21. Cluster Profiles — Mean RFM per Cluster"
   ]
  },
  {
   "cell_type": "code",
   "execution_count": 21,
   "id": "8b1d358f",
   "metadata": {},
   "outputs": [
    {
     "data": {
      "image/png": "[encoded data removed]",
      "text/plain": [
       "<Figure size 800x450 with 1 Axes>"
      ]
     },
     "metadata": {},
     "output_type": "display_data"
    },
    {
     "data": {
      "application/vnd.microsoft.datawrangler.viewer.v0+json": {
       "columns": [
        {
         "name": "index",
         "rawType": "int64",
         "type": "integer"
        },
        {
         "name": "Cluster",
         "rawType": "int32",
         "type": "integer"
        },
        {
         "name": "Recency",
         "rawType": "float64",
         "type": "float"
        },
        {
         "name": "Frequency",
         "rawType": "float64",
         "type": "float"
        },
        {
         "name": "Monetary",
         "rawType": "float64",
         "type": "float"
        }
       ],
       "ref": "28763bdc-695e-48ce-8571-9ae23220da57",
       "rows": [
        [
         "0",
         "0",
         "43.7",
         "3.68",
         "1359.05"
        ],
        [
         "1",
         "1",
         "248.08",
         "1.55",
         "480.62"
        ],
        [
         "2",
         "2",
         "7.38",
         "82.54",
         "127338.31"
        ],
        [
         "3",
         "3",
         "15.5",
         "22.33",
         "12709.09"
        ]
       ],
       "shape": {
        "columns": 4,
        "rows": 4
       }
      },
      "text/html": [
       "<div>\n",
       "<style scoped>\n",
       "    .dataframe tbody tr th:only-of-type {\n",
       "        vertical-align: middle;\n",
       "    }\n",
       "\n",
       "    .dataframe tbody tr th {\n",
       "        vertical-align: top;\n",
       "    }\n",
       "\n",
       "    .dataframe thead th {\n",
       "        text-align: right;\n",
       "    }\n",
       "</style>\n",
       "<table border=\"1\" class=\"dataframe\">\n",
       "  <thead>\n",
       "    <tr style=\"text-align: right;\">\n",
       "      <th></th>\n",
       "      <th>Cluster</th>\n",
       "      <th>Recency</th>\n",
       "      <th>Frequency</th>\n",
       "      <th>Monetary</th>\n",
       "    </tr>\n",
       "  </thead>\n",
       "  <tbody>\n",
       "    <tr>\n",
       "      <th>0</th>\n",
       "      <td>0</td>\n",
       "      <td>43.70</td>\n",
       "      <td>3.68</td>\n",
       "      <td>1359.05</td>\n",
       "    </tr>\n",
       "    <tr>\n",
       "      <th>1</th>\n",
       "      <td>1</td>\n",
       "      <td>248.08</td>\n",
       "      <td>1.55</td>\n",
       "      <td>480.62</td>\n",
       "    </tr>\n",
       "    <tr>\n",
       "      <th>2</th>\n",
       "      <td>2</td>\n",
       "      <td>7.38</td>\n",
       "      <td>82.54</td>\n",
       "      <td>127338.31</td>\n",
       "    </tr>\n",
       "    <tr>\n",
       "      <th>3</th>\n",
       "      <td>3</td>\n",
       "      <td>15.50</td>\n",
       "      <td>22.33</td>\n",
       "      <td>12709.09</td>\n",
       "    </tr>\n",
       "  </tbody>\n",
       "</table>\n",
       "</div>"
      ],
      "text/plain": [
       "   Cluster  Recency  Frequency   Monetary\n",
       "0        0    43.70       3.68    1359.05\n",
       "1        1   248.08       1.55     480.62\n",
       "2        2     7.38      82.54  127338.31\n",
       "3        3    15.50      22.33   12709.09"
      ]
     },
     "execution_count": 21,
     "metadata": {},
     "output_type": "execute_result"
    }
   ],
   "source": [
    "profile = rfm.groupby('Cluster')[['Recency','Frequency','Monetary']].mean().round(2).reset_index()\n",
    "melted = profile.melt(id_vars='Cluster', var_name='Metric', value_name='Value')\n",
    "plt.figure(figsize=(8,4.5))\n",
    "sns.barplot(data=melted, x='Metric', y='Value', hue='Cluster', palette='tab10')\n",
    "plt.title('Average RFM by Cluster')\n",
    "plt.ylabel('Mean Value')\n",
    "plt.xlabel('Metric')\n",
    "plt.legend(title='Cluster')\n",
    "plt.tight_layout()\n",
    "plt.show()\n",
    "profile"
   ]
  },
  {
   "cell_type": "markdown",
   "id": "b34cfc8a",
   "metadata": {},
   "source": [
    "### 22. 2D Scatter — Recency vs Monetary (by Cluster)"
   ]
  },
  {
   "cell_type": "code",
   "execution_count": 22,
   "id": "9304c7d6",
   "metadata": {},
   "outputs": [
    {
     "data": {
      "image/png": "[encoded data removed]",
      "text/plain": [
       "<Figure size 700x500 with 1 Axes>"
      ]
     },
     "metadata": {},
     "output_type": "display_data"
    }
   ],
   "source": [
    "plt.figure(figsize=(7,5))\n",
    "sns.scatterplot(data=rfm.reset_index(), x='Recency', y='Monetary', hue='Cluster', palette='tab10', alpha=0.7, s=40)\n",
    "plt.title('Recency vs Monetary by Cluster')\n",
    "plt.grid(alpha=0.2)\n",
    "plt.tight_layout()\n",
    "plt.show()"
   ]
  },
  {
   "cell_type": "markdown",
   "id": "c8e80966",
   "metadata": {},
   "source": [
    "### 23. 2D Scatter — Frequency vs Monetary (by Cluster)"
   ]
  },
  {
   "cell_type": "code",
   "execution_count": 23,
   "id": "0e692ea4",
   "metadata": {},
   "outputs": [
    {
     "data": {
      "image/png": "[encoded data removed]",
      "text/plain": [
       "<Figure size 700x500 with 1 Axes>"
      ]
     },
     "metadata": {},
     "output_type": "display_data"
    }
   ],
   "source": [
    "plt.figure(figsize=(7,5))\n",
    "sns.scatterplot(data=rfm.reset_index(), x='Frequency', y='Monetary', hue='Cluster', palette='tab10', alpha=0.7, s=40)\n",
    "plt.title('Frequency vs Monetary by Cluster')\n",
    "plt.grid(alpha=0.2)\n",
    "plt.tight_layout()\n",
    "plt.show()"
   ]
  },
  {
   "cell_type": "markdown",
   "id": "96159327",
   "metadata": {},
   "source": [
    "## 24. Conclusion"
   ]
  },
  {
   "cell_type": "markdown",
   "id": "dd2b303e",
   "metadata": {},
   "source": [
    "### **Summary**\n",
    "\n",
    "The customer segmentation produced four distinct groups. Cluster 2 represents VIP customers who buy most frequently and spend the most, requiring premium retention strategies. Cluster 3 includes loyal and high-frequency buyers suitable for cross-selling and loyalty rewards. Cluster 0 forms the majority with moderate spending and frequency, showing potential for growth through personalized promotions. Cluster 1 consists of inactive or at-risk customers needing reactivation campaigns. Overall, applying targeted marketing, personalized offers, and monitoring KPIs like retention, order value, and CLTV will enhance customer engagement and business growth.\n"
   ]
  },
  {
   "cell_type": "markdown",
   "id": "25ba0931",
   "metadata": {},
   "source": [
    "----"
   ]
  }
 ],
 "metadata": {
  "kernelspec": {
   "display_name": "Python 3",
   "language": "python",
   "name": "python3"
  },
  "language_info": {
   "codemirror_mode": {
    "name": "ipython",
    "version": 3
   },
   "file_extension": ".py",
   "mimetype": "text/x-python",
   "name": "python",
   "nbconvert_exporter": "python",
   "pygments_lexer": "ipython3",
   "version": "3.10.0"
  }
 },
 "nbformat": 4,
 "nbformat_minor": 5
}
